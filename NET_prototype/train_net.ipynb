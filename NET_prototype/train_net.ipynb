{
 "cells": [
  {
   "cell_type": "code",
   "id": "initial_id",
   "metadata": {
    "collapsed": true,
    "ExecuteTime": {
     "end_time": "2025-01-16T19:50:58.287755019Z",
     "start_time": "2025-01-16T19:50:55.500838227Z"
    }
   },
   "source": [
    "import tensorflow_datasets as tfds\n",
    "import tensorflow as tf\n",
    "import matplotlib.pyplot as plt\n",
    "import numpy as np\n",
    "import librosa\n",
    "from IPython import display\n",
    "import sys\n",
    "sys.path.append(\"../\")\n",
    "from DSP_prototype.DSP_algorithms import stft\n",
    "from tensorflow.keras import layers\n",
    "from tensorflow.keras import models"
   ],
   "outputs": [
    {
     "name": "stderr",
     "output_type": "stream",
     "text": [
      "2025-01-16 20:50:56.473452: E external/local_xla/xla/stream_executor/cuda/cuda_fft.cc:477] Unable to register cuFFT factory: Attempting to register factory for plugin cuFFT when one has already been registered\n",
      "WARNING: All log messages before absl::InitializeLog() is called are written to STDERR\n",
      "E0000 00:00:1737057056.536912    7751 cuda_dnn.cc:8310] Unable to register cuDNN factory: Attempting to register factory for plugin cuDNN when one has already been registered\n",
      "E0000 00:00:1737057056.555934    7751 cuda_blas.cc:1418] Unable to register cuBLAS factory: Attempting to register factory for plugin cuBLAS when one has already been registered\n",
      "2025-01-16 20:50:56.686604: I tensorflow/core/platform/cpu_feature_guard.cc:210] This TensorFlow binary is optimized to use available CPU instructions in performance-critical operations.\n",
      "To enable the following instructions: AVX2 FMA, in other operations, rebuild TensorFlow with the appropriate compiler flags.\n"
     ]
    }
   ],
   "execution_count": 1
  },
  {
   "cell_type": "code",
   "source": [
    "gpus = tf.config.experimental.list_physical_devices('GPU')\n",
    "if gpus:\n",
    "    try:\n",
    "        for gpu in gpus:\n",
    "            tf.config.experimental.set_memory_growth(gpu, True)\n",
    "    except RuntimeError as e:\n",
    "        print(e)\n"
   ],
   "metadata": {
    "collapsed": false,
    "ExecuteTime": {
     "end_time": "2025-01-16T19:51:00.005828570Z",
     "start_time": "2025-01-16T19:50:59.690308640Z"
    }
   },
   "id": "9107837cb8eb9168",
   "outputs": [],
   "execution_count": 2
  },
  {
   "cell_type": "markdown",
   "source": [
    "# Informacje o zbiorze danych \"speech_commands\"\n",
    "\n",
    "## Etykiety\n",
    "W zbiorze danych znajdują się pliki audio próbkowane z częstotliwością $f=16$kHz. Każdemu plikowi przypisana jest jedna z 12 dostępnych klas, które numerowane są w następujący sposób:\n",
    "\n",
    "- 0 - down\n",
    "- 1 - go\n",
    "- 2 - left\n",
    "- 3 - no\n",
    "- 4 - off\n",
    "- 5 - on\n",
    "- 6 - right\n",
    "- 7 - stop\n",
    "- 8 - up\n",
    "- 9 - yes\n",
    "- 10 - silence\n",
    "- 11 - unknown"
   ],
   "metadata": {
    "collapsed": false
   },
   "id": "e68534c8021cba4c"
  },
  {
   "cell_type": "code",
   "source": [
    "sample_rate = 16000\n",
    "label_strings = [\"down\", \"go\", \"left\", \"no\", \"off\", \"on\", \"right\", \"stop\", \"up\", \"yes\", \"silence\", \"unknown\"]\n",
    "selected_labels = [1, 2, 3, 6, 7, 9, 10, 11]\n",
    "selected_labels_dict = {x:i for i, x in enumerate(selected_labels)}\n",
    "NUM_CLASSES = len(selected_labels)\n",
    "commands = [label_strings[x] for x in selected_labels]"
   ],
   "metadata": {
    "collapsed": false,
    "ExecuteTime": {
     "end_time": "2025-01-16T19:51:02.827060863Z",
     "start_time": "2025-01-16T19:51:02.802463912Z"
    }
   },
   "id": "f8929242510148b9",
   "outputs": [],
   "execution_count": 3
  },
  {
   "cell_type": "markdown",
   "source": [
    "# Select data for training"
   ],
   "metadata": {
    "collapsed": false
   },
   "id": "e49c34764b51b91"
  },
  {
   "cell_type": "code",
   "source": [
    "dataset, info = tfds.load('speech_commands', with_info=True, as_supervised=True, split=\"test+validation+train\")\n",
    "print(f\"Full dataset length: {len(dataset)}\")\n",
    "\n",
    "exclude_classes = [x for x in range(12) if x not in selected_labels]\n",
    "dataset = dataset.shuffle(10000, seed=2137)"
   ],
   "metadata": {
    "collapsed": false,
    "ExecuteTime": {
     "end_time": "2025-01-16T19:51:05.591676239Z",
     "start_time": "2025-01-16T19:51:04.179481330Z"
    }
   },
   "id": "5cfba0e3ea24e1e1",
   "outputs": [
    {
     "name": "stderr",
     "output_type": "stream",
     "text": [
      "I0000 00:00:1737057064.374566    7751 gpu_device.cc:2022] Created device /job:localhost/replica:0/task:0/device:GPU:0 with 6161 MB memory:  -> device: 0, name: NVIDIA GeForce RTX 2070 Super, pci bus id: 0000:01:00.0, compute capability: 7.5\n"
     ]
    },
    {
     "name": "stdout",
     "output_type": "stream",
     "text": [
      "Full dataset length: 100503\n"
     ]
    }
   ],
   "execution_count": 4
  },
  {
   "cell_type": "code",
   "source": [
    "def split_data_and_labels(dataset, length):\n",
    "    data = []\n",
    "    labels = []\n",
    "    i = 0\n",
    "    unknown_counter = 0\n",
    "    for feature, label in dataset:\n",
    "        if i == length:\n",
    "            break\n",
    "            \n",
    "        pcm = feature.numpy()\n",
    "        pcm_padded = np.pad(pcm, (0, sample_rate - len(pcm)), 'constant', constant_values=0)\n",
    "        pcm_padded = pcm_padded.astype(np.float32)\n",
    "        pcm_padded = librosa.resample(pcm_padded, orig_sr=16e3, target_sr=8e3)\n",
    "        label = int(label.numpy())\n",
    "        if label in selected_labels:\n",
    "            if label == 11 and unknown_counter < 5:\n",
    "                unknown_counter += 1\n",
    "                \n",
    "            if (label == 11 and unknown_counter == 5) or label != 11:\n",
    "                data.append(pcm_padded)\n",
    "                labels.append(selected_labels_dict.get(label))\n",
    "                i += 1\n",
    "                unknown_counter = 0\n",
    "    return np.vstack(data), np.vstack(labels)\n"
   ],
   "metadata": {
    "collapsed": false,
    "ExecuteTime": {
     "end_time": "2025-01-16T19:51:06.739581833Z",
     "start_time": "2025-01-16T19:51:06.730448600Z"
    }
   },
   "id": "73ffc84e3d7e2219",
   "outputs": [],
   "execution_count": 5
  },
  {
   "cell_type": "code",
   "source": [
    "data, labels = split_data_and_labels(dataset, len(dataset))\n",
    "NEW_DATASET_LENGTH = len(data)\n",
    "print(f\"Filtered length: {NEW_DATASET_LENGTH}\")"
   ],
   "metadata": {
    "collapsed": false,
    "ExecuteTime": {
     "end_time": "2025-01-16T19:52:00.866545005Z",
     "start_time": "2025-01-16T19:51:07.970406840Z"
    }
   },
   "id": "fb22e4964e917545",
   "outputs": [
    {
     "name": "stderr",
     "output_type": "stream",
     "text": [
      "2025-01-16 20:51:08.010995: I tensorflow/core/kernels/data/tf_record_dataset_op.cc:376] The default buffer size is 262144, which is overridden by the user specified `buffer_size` of 8388608\n",
      "2025-01-16 20:52:00.618425: I tensorflow/core/framework/local_rendezvous.cc:405] Local rendezvous is aborting with status: OUT_OF_RANGE: End of sequence\n"
     ]
    },
    {
     "name": "stdout",
     "output_type": "stream",
     "text": [
      "Filtered length: 30069\n"
     ]
    }
   ],
   "execution_count": 6
  },
  {
   "cell_type": "code",
   "source": [
    "unique, counts = np.unique(labels, return_counts=True)\n",
    "\n",
    "plt.bar(commands, counts)"
   ],
   "metadata": {
    "collapsed": false,
    "ExecuteTime": {
     "end_time": "2025-01-16T19:52:10.746952691Z",
     "start_time": "2025-01-16T19:52:10.547800173Z"
    }
   },
   "id": "634f8a83c7794d55",
   "outputs": [
    {
     "data": {
      "text/plain": "<BarContainer object of 8 artists>"
     },
     "execution_count": 7,
     "metadata": {},
     "output_type": "execute_result"
    },
    {
     "data": {
      "text/plain": "<Figure size 640x480 with 1 Axes>",
      "image/png": "[encoded data removed]"
     },
     "metadata": {},
     "output_type": "display_data"
    }
   ],
   "execution_count": 7
  },
  {
   "cell_type": "markdown",
   "source": [
    "# Split data into data and labels"
   ],
   "metadata": {
    "collapsed": false
   },
   "id": "5a6a63e66d2133ba"
  },
  {
   "cell_type": "code",
   "source": [
    "TRAIN_PART = 0.7\n",
    "VAL_PART = 0.1\n",
    "TEST_PART = 0.2\n",
    "\n",
    "train_data = data[:int(NEW_DATASET_LENGTH*TRAIN_PART)]\n",
    "train_labels = labels[:int(NEW_DATASET_LENGTH*TRAIN_PART)]\n",
    "TRAIN_LEN = len(train_data)\n",
    "\n",
    "val_data = data[TRAIN_LEN:TRAIN_LEN+int(NEW_DATASET_LENGTH*VAL_PART)]\n",
    "val_labels = labels[TRAIN_LEN:TRAIN_LEN+int(NEW_DATASET_LENGTH*VAL_PART)]\n",
    "VAL_LEN = len(val_data)\n",
    "\n",
    "test_data = data[TRAIN_LEN+VAL_LEN:]\n",
    "test_labels = labels[TRAIN_LEN+VAL_LEN:]\n",
    "TEST_LEN = len(test_data)\n",
    "\n",
    "print(f\"Train data length: {TRAIN_LEN}\")\n",
    "print(f\"Validation data length: {VAL_LEN}\")\n",
    "print(f\"Test data length: {TEST_LEN}\")\n",
    "print(f\"Full dataset length: {NEW_DATASET_LENGTH}\")"
   ],
   "metadata": {
    "collapsed": false,
    "ExecuteTime": {
     "end_time": "2025-01-16T19:53:33.264758506Z",
     "start_time": "2025-01-16T19:53:33.224253069Z"
    }
   },
   "id": "fd2d59838db780fa",
   "outputs": [
    {
     "name": "stdout",
     "output_type": "stream",
     "text": [
      "Train data length: 21048\n",
      "Validation data length: 3006\n",
      "Test data length: 6015\n",
      "Full dataset length: 30069\n"
     ]
    }
   ],
   "execution_count": 8
  },
  {
   "cell_type": "markdown",
   "source": [
    "# Normalize PCM audio vectors"
   ],
   "metadata": {
    "collapsed": false
   },
   "id": "d276ded614fda0b5"
  },
  {
   "cell_type": "code",
   "source": [
    "train_data.dtype"
   ],
   "metadata": {
    "collapsed": false
   },
   "id": "c3a99c49ff4ac32e",
   "outputs": [],
   "execution_count": null
  },
  {
   "cell_type": "code",
   "source": [
    "print(f\"[Train dataset] Max amplitude before normalization: {np.max(np.abs(train_data))}\")\n",
    "print(f\"[Valid dataset] Max amplitude before normalization: {np.max(np.abs(val_data))}\")\n",
    "print(f\"[Test dataset] Max amplitude before normalization: {np.max(np.abs(test_data))}\")\n",
    "\n",
    "train_data_max = np.max(np.abs(train_data))\n",
    "valid_data_max = np.max(np.abs(val_data))\n",
    "test_data_max = np.max(np.abs(test_data))\n",
    "\n",
    "for i in range(len(train_data)):\n",
    "    train_data[i] /= train_data_max\n",
    "    print(i)\n",
    "    \n",
    "for i in range(len(val_data)):\n",
    "    val_data[i] /= valid_data_max\n",
    "    print(i)\n",
    "    \n",
    "for i in range(len(test_data)):\n",
    "    test_data[i] /= test_data_max\n",
    "    print(i)\n",
    "\n",
    "print(f\"[Train dataset] Max amplitude after normalization: {np.max(np.abs(train_data))}\")\n",
    "print(f\"[Valid dataset] Max amplitude after normalization: {np.max(np.abs(val_data))}\")\n",
    "print(f\"[Test dataset] Max amplitude after normalization: {np.max(np.abs(test_data))}\")"
   ],
   "metadata": {
    "collapsed": false
   },
   "id": "96dbb14fe5b7af36",
   "outputs": [],
   "execution_count": null
  },
  {
   "cell_type": "markdown",
   "source": [
    "# Spectrograms"
   ],
   "metadata": {
    "collapsed": false
   },
   "id": "2544af77c51f0291"
  },
  {
   "cell_type": "code",
   "source": [
    "def get_spectrogram(pcm):\n",
    "    D = librosa.stft(pcm, n_fft=256, hop_length=128, window='hann')\n",
    "    return np.abs(D)"
   ],
   "metadata": {
    "collapsed": false
   },
   "id": "b111b79c2951c8ff",
   "outputs": [],
   "execution_count": null
  },
  {
   "cell_type": "code",
   "source": [
    "train_data = np.array([np.abs(stft(x, fs=8e3, N=256, hop_size=128)[0]) for x in train_data])\n",
    "valid_data = np.array([np.abs(stft(x, fs=8e3, N=256, hop_size=128)[0]) for x in val_data])\n",
    "test_data = np.array([np.abs(stft(x, fs=8e3, N=256, hop_size=128)[0]) for x in test_data])"
   ],
   "metadata": {
    "collapsed": false,
    "ExecuteTime": {
     "end_time": "2025-01-16T19:53:48.565431887Z",
     "start_time": "2025-01-16T19:53:36.254110689Z"
    }
   },
   "id": "a16278e5a535f238",
   "outputs": [],
   "execution_count": 9
  },
  {
   "cell_type": "code",
   "source": [
    "train_data = train_data.reshape(len(train_data), train_data[0].shape[0], train_data[0].shape[1], 1)\n",
    "valid_data = valid_data.reshape(len(valid_data), valid_data[0].shape[0], valid_data[0].shape[1], 1)\n",
    "test_data = test_data.reshape(len(test_data), test_data[0].shape[0], test_data[0].shape[1], 1)"
   ],
   "metadata": {
    "collapsed": false,
    "ExecuteTime": {
     "end_time": "2025-01-16T19:53:56.767847359Z",
     "start_time": "2025-01-16T19:53:56.705174506Z"
    }
   },
   "id": "af708bd4c7ac6816",
   "outputs": [],
   "execution_count": 10
  },
  {
   "cell_type": "markdown",
   "source": [
    "# Model"
   ],
   "metadata": {
    "collapsed": false
   },
   "id": "faa1b552cc796201"
  },
  {
   "cell_type": "code",
   "source": [
    "\n",
    "# Update input shape\n",
    "input_shape = train_data[0].shape  # This will now be (129, 126, 1)\n",
    "print('Input shape:', input_shape)\n",
    "\n",
    "# Instantiate the `tf.keras.layers.Normalization` layer.\n",
    "norm_layer = layers.Normalization()\n",
    "# Fit the state of the layer to the spectrograms\n",
    "# with `Normalization.adapt`.\n",
    "norm_layer.adapt(train_data)\n",
    "\n",
    "model = models.Sequential([\n",
    "    layers.Input(shape=input_shape),\n",
    "    # Downsample the input.\n",
    "    layers.Resizing(32, 32),\n",
    "    # Normalize.\n",
    "    norm_layer,\n",
    "    layers.SeparableConv2D(32, 3, activation='leaky_relu'),\n",
    "    layers.SeparableConv2D(64, 3, activation='leaky_relu'),\n",
    "    layers.MaxPooling2D((2,2)),\n",
    "    layers.Dropout(0.5),\n",
    "    layers.SeparableConv2D(64, 3, activation='leaky_relu'),\n",
    "    layers.SeparableConv2D(128, 3, activation='leaky_relu'),\n",
    "    layers.MaxPooling2D((2,2)),\n",
    "    layers.Dropout(0.5),\n",
    "    layers.SeparableConv2D(128, 3, activation='leaky_relu'),\n",
    "    layers.SeparableConv2D(256, 3, activation='leaky_relu'),\n",
    "    layers.GlobalAveragePooling2D(),\n",
    "    layers.Dense(64, activation='leaky_relu'),\n",
    "    layers.Dropout(0.5),\n",
    "    layers.Dense(NUM_CLASSES, activation='softmax'),\n",
    "])\n",
    "\n",
    "model.summary()"
   ],
   "metadata": {
    "collapsed": false,
    "ExecuteTime": {
     "end_time": "2025-01-16T19:54:02.500188081Z",
     "start_time": "2025-01-16T19:54:01.156345552Z"
    }
   },
   "id": "978ada55a29a078c",
   "outputs": [
    {
     "name": "stdout",
     "output_type": "stream",
     "text": [
      "Input shape: (129, 61, 1)\n"
     ]
    },
    {
     "data": {
      "text/plain": "\u001B[1mModel: \"sequential\"\u001B[0m\n",
      "text/html": "<pre style=\"white-space:pre;overflow-x:auto;line-height:normal;font-family:Menlo,'DejaVu Sans Mono',consolas,'Courier New',monospace\"><span style=\"font-weight: bold\">Model: \"sequential\"</span>\n</pre>\n"
     },
     "metadata": {},
     "output_type": "display_data"
    },
    {
     "data": {
      "text/plain": "┏━━━━━━━━━━━━━━━━━━━━━━━━━━━━━━━━━┳━━━━━━━━━━━━━━━━━━━━━━━━┳━━━━━━━━━━━━━━━┓\n┃\u001B[1m \u001B[0m\u001B[1mLayer (type)                   \u001B[0m\u001B[1m \u001B[0m┃\u001B[1m \u001B[0m\u001B[1mOutput Shape          \u001B[0m\u001B[1m \u001B[0m┃\u001B[1m \u001B[0m\u001B[1m      Param #\u001B[0m\u001B[1m \u001B[0m┃\n┡━━━━━━━━━━━━━━━━━━━━━━━━━━━━━━━━━╇━━━━━━━━━━━━━━━━━━━━━━━━╇━━━━━━━━━━━━━━━┩\n│ resizing (\u001B[38;5;33mResizing\u001B[0m)             │ (\u001B[38;5;45mNone\u001B[0m, \u001B[38;5;34m32\u001B[0m, \u001B[38;5;34m32\u001B[0m, \u001B[38;5;34m1\u001B[0m)      │             \u001B[38;5;34m0\u001B[0m │\n├─────────────────────────────────┼────────────────────────┼───────────────┤\n│ normalization (\u001B[38;5;33mNormalization\u001B[0m)   │ (\u001B[38;5;45mNone\u001B[0m, \u001B[38;5;34m32\u001B[0m, \u001B[38;5;34m32\u001B[0m, \u001B[38;5;34m1\u001B[0m)      │             \u001B[38;5;34m3\u001B[0m │\n├─────────────────────────────────┼────────────────────────┼───────────────┤\n│ separable_conv2d                │ (\u001B[38;5;45mNone\u001B[0m, \u001B[38;5;34m30\u001B[0m, \u001B[38;5;34m30\u001B[0m, \u001B[38;5;34m32\u001B[0m)     │            \u001B[38;5;34m73\u001B[0m │\n│ (\u001B[38;5;33mSeparableConv2D\u001B[0m)               │                        │               │\n├─────────────────────────────────┼────────────────────────┼───────────────┤\n│ separable_conv2d_1              │ (\u001B[38;5;45mNone\u001B[0m, \u001B[38;5;34m28\u001B[0m, \u001B[38;5;34m28\u001B[0m, \u001B[38;5;34m64\u001B[0m)     │         \u001B[38;5;34m2,400\u001B[0m │\n│ (\u001B[38;5;33mSeparableConv2D\u001B[0m)               │                        │               │\n├─────────────────────────────────┼────────────────────────┼───────────────┤\n│ max_pooling2d (\u001B[38;5;33mMaxPooling2D\u001B[0m)    │ (\u001B[38;5;45mNone\u001B[0m, \u001B[38;5;34m14\u001B[0m, \u001B[38;5;34m14\u001B[0m, \u001B[38;5;34m64\u001B[0m)     │             \u001B[38;5;34m0\u001B[0m │\n├─────────────────────────────────┼────────────────────────┼───────────────┤\n│ dropout (\u001B[38;5;33mDropout\u001B[0m)               │ (\u001B[38;5;45mNone\u001B[0m, \u001B[38;5;34m14\u001B[0m, \u001B[38;5;34m14\u001B[0m, \u001B[38;5;34m64\u001B[0m)     │             \u001B[38;5;34m0\u001B[0m │\n├─────────────────────────────────┼────────────────────────┼───────────────┤\n│ separable_conv2d_2              │ (\u001B[38;5;45mNone\u001B[0m, \u001B[38;5;34m12\u001B[0m, \u001B[38;5;34m12\u001B[0m, \u001B[38;5;34m64\u001B[0m)     │         \u001B[38;5;34m4,736\u001B[0m │\n│ (\u001B[38;5;33mSeparableConv2D\u001B[0m)               │                        │               │\n├─────────────────────────────────┼────────────────────────┼───────────────┤\n│ separable_conv2d_3              │ (\u001B[38;5;45mNone\u001B[0m, \u001B[38;5;34m10\u001B[0m, \u001B[38;5;34m10\u001B[0m, \u001B[38;5;34m128\u001B[0m)    │         \u001B[38;5;34m8,896\u001B[0m │\n│ (\u001B[38;5;33mSeparableConv2D\u001B[0m)               │                        │               │\n├─────────────────────────────────┼────────────────────────┼───────────────┤\n│ max_pooling2d_1 (\u001B[38;5;33mMaxPooling2D\u001B[0m)  │ (\u001B[38;5;45mNone\u001B[0m, \u001B[38;5;34m5\u001B[0m, \u001B[38;5;34m5\u001B[0m, \u001B[38;5;34m128\u001B[0m)      │             \u001B[38;5;34m0\u001B[0m │\n├─────────────────────────────────┼────────────────────────┼───────────────┤\n│ dropout_1 (\u001B[38;5;33mDropout\u001B[0m)             │ (\u001B[38;5;45mNone\u001B[0m, \u001B[38;5;34m5\u001B[0m, \u001B[38;5;34m5\u001B[0m, \u001B[38;5;34m128\u001B[0m)      │             \u001B[38;5;34m0\u001B[0m │\n├─────────────────────────────────┼────────────────────────┼───────────────┤\n│ separable_conv2d_4              │ (\u001B[38;5;45mNone\u001B[0m, \u001B[38;5;34m3\u001B[0m, \u001B[38;5;34m3\u001B[0m, \u001B[38;5;34m128\u001B[0m)      │        \u001B[38;5;34m17,664\u001B[0m │\n│ (\u001B[38;5;33mSeparableConv2D\u001B[0m)               │                        │               │\n├─────────────────────────────────┼────────────────────────┼───────────────┤\n│ separable_conv2d_5              │ (\u001B[38;5;45mNone\u001B[0m, \u001B[38;5;34m1\u001B[0m, \u001B[38;5;34m1\u001B[0m, \u001B[38;5;34m256\u001B[0m)      │        \u001B[38;5;34m34,176\u001B[0m │\n│ (\u001B[38;5;33mSeparableConv2D\u001B[0m)               │                        │               │\n├─────────────────────────────────┼────────────────────────┼───────────────┤\n│ global_average_pooling2d        │ (\u001B[38;5;45mNone\u001B[0m, \u001B[38;5;34m256\u001B[0m)            │             \u001B[38;5;34m0\u001B[0m │\n│ (\u001B[38;5;33mGlobalAveragePooling2D\u001B[0m)        │                        │               │\n├─────────────────────────────────┼────────────────────────┼───────────────┤\n│ dense (\u001B[38;5;33mDense\u001B[0m)                   │ (\u001B[38;5;45mNone\u001B[0m, \u001B[38;5;34m64\u001B[0m)             │        \u001B[38;5;34m16,448\u001B[0m │\n├─────────────────────────────────┼────────────────────────┼───────────────┤\n│ dropout_2 (\u001B[38;5;33mDropout\u001B[0m)             │ (\u001B[38;5;45mNone\u001B[0m, \u001B[38;5;34m64\u001B[0m)             │             \u001B[38;5;34m0\u001B[0m │\n├─────────────────────────────────┼────────────────────────┼───────────────┤\n│ dense_1 (\u001B[38;5;33mDense\u001B[0m)                 │ (\u001B[38;5;45mNone\u001B[0m, \u001B[38;5;34m8\u001B[0m)              │           \u001B[38;5;34m520\u001B[0m │\n└─────────────────────────────────┴────────────────────────┴───────────────┘\n",
      "text/html": "<pre style=\"white-space:pre;overflow-x:auto;line-height:normal;font-family:Menlo,'DejaVu Sans Mono',consolas,'Courier New',monospace\">┏━━━━━━━━━━━━━━━━━━━━━━━━━━━━━━━━━┳━━━━━━━━━━━━━━━━━━━━━━━━┳━━━━━━━━━━━━━━━┓\n┃<span style=\"font-weight: bold\"> Layer (type)                    </span>┃<span style=\"font-weight: bold\"> Output Shape           </span>┃<span style=\"font-weight: bold\">       Param # </span>┃\n┡━━━━━━━━━━━━━━━━━━━━━━━━━━━━━━━━━╇━━━━━━━━━━━━━━━━━━━━━━━━╇━━━━━━━━━━━━━━━┩\n│ resizing (<span style=\"color: #0087ff; text-decoration-color: #0087ff\">Resizing</span>)             │ (<span style=\"color: #00d7ff; text-decoration-color: #00d7ff\">None</span>, <span style=\"color: #00af00; text-decoration-color: #00af00\">32</span>, <span style=\"color: #00af00; text-decoration-color: #00af00\">32</span>, <span style=\"color: #00af00; text-decoration-color: #00af00\">1</span>)      │             <span style=\"color: #00af00; text-decoration-color: #00af00\">0</span> │\n├─────────────────────────────────┼────────────────────────┼───────────────┤\n│ normalization (<span style=\"color: #0087ff; text-decoration-color: #0087ff\">Normalization</span>)   │ (<span style=\"color: #00d7ff; text-decoration-color: #00d7ff\">None</span>, <span style=\"color: #00af00; text-decoration-color: #00af00\">32</span>, <span style=\"color: #00af00; text-decoration-color: #00af00\">32</span>, <span style=\"color: #00af00; text-decoration-color: #00af00\">1</span>)      │             <span style=\"color: #00af00; text-decoration-color: #00af00\">3</span> │\n├─────────────────────────────────┼────────────────────────┼───────────────┤\n│ separable_conv2d                │ (<span style=\"color: #00d7ff; text-decoration-color: #00d7ff\">None</span>, <span style=\"color: #00af00; text-decoration-color: #00af00\">30</span>, <span style=\"color: #00af00; text-decoration-color: #00af00\">30</span>, <span style=\"color: #00af00; text-decoration-color: #00af00\">32</span>)     │            <span style=\"color: #00af00; text-decoration-color: #00af00\">73</span> │\n│ (<span style=\"color: #0087ff; text-decoration-color: #0087ff\">SeparableConv2D</span>)               │                        │               │\n├─────────────────────────────────┼────────────────────────┼───────────────┤\n│ separable_conv2d_1              │ (<span style=\"color: #00d7ff; text-decoration-color: #00d7ff\">None</span>, <span style=\"color: #00af00; text-decoration-color: #00af00\">28</span>, <span style=\"color: #00af00; text-decoration-color: #00af00\">28</span>, <span style=\"color: #00af00; text-decoration-color: #00af00\">64</span>)     │         <span style=\"color: #00af00; text-decoration-color: #00af00\">2,400</span> │\n│ (<span style=\"color: #0087ff; text-decoration-color: #0087ff\">SeparableConv2D</span>)               │                        │               │\n├─────────────────────────────────┼────────────────────────┼───────────────┤\n│ max_pooling2d (<span style=\"color: #0087ff; text-decoration-color: #0087ff\">MaxPooling2D</span>)    │ (<span style=\"color: #00d7ff; text-decoration-color: #00d7ff\">None</span>, <span style=\"color: #00af00; text-decoration-color: #00af00\">14</span>, <span style=\"color: #00af00; text-decoration-color: #00af00\">14</span>, <span style=\"color: #00af00; text-decoration-color: #00af00\">64</span>)     │             <span style=\"color: #00af00; text-decoration-color: #00af00\">0</span> │\n├─────────────────────────────────┼────────────────────────┼───────────────┤\n│ dropout (<span style=\"color: #0087ff; text-decoration-color: #0087ff\">Dropout</span>)               │ (<span style=\"color: #00d7ff; text-decoration-color: #00d7ff\">None</span>, <span style=\"color: #00af00; text-decoration-color: #00af00\">14</span>, <span style=\"color: #00af00; text-decoration-color: #00af00\">14</span>, <span style=\"color: #00af00; text-decoration-color: #00af00\">64</span>)     │             <span style=\"color: #00af00; text-decoration-color: #00af00\">0</span> │\n├─────────────────────────────────┼────────────────────────┼───────────────┤\n│ separable_conv2d_2              │ (<span style=\"color: #00d7ff; text-decoration-color: #00d7ff\">None</span>, <span style=\"color: #00af00; text-decoration-color: #00af00\">12</span>, <span style=\"color: #00af00; text-decoration-color: #00af00\">12</span>, <span style=\"color: #00af00; text-decoration-color: #00af00\">64</span>)     │         <span style=\"color: #00af00; text-decoration-color: #00af00\">4,736</span> │\n│ (<span style=\"color: #0087ff; text-decoration-color: #0087ff\">SeparableConv2D</span>)               │                        │               │\n├─────────────────────────────────┼────────────────────────┼───────────────┤\n│ separable_conv2d_3              │ (<span style=\"color: #00d7ff; text-decoration-color: #00d7ff\">None</span>, <span style=\"color: #00af00; text-decoration-color: #00af00\">10</span>, <span style=\"color: #00af00; text-decoration-color: #00af00\">10</span>, <span style=\"color: #00af00; text-decoration-color: #00af00\">128</span>)    │         <span style=\"color: #00af00; text-decoration-color: #00af00\">8,896</span> │\n│ (<span style=\"color: #0087ff; text-decoration-color: #0087ff\">SeparableConv2D</span>)               │                        │               │\n├─────────────────────────────────┼────────────────────────┼───────────────┤\n│ max_pooling2d_1 (<span style=\"color: #0087ff; text-decoration-color: #0087ff\">MaxPooling2D</span>)  │ (<span style=\"color: #00d7ff; text-decoration-color: #00d7ff\">None</span>, <span style=\"color: #00af00; text-decoration-color: #00af00\">5</span>, <span style=\"color: #00af00; text-decoration-color: #00af00\">5</span>, <span style=\"color: #00af00; text-decoration-color: #00af00\">128</span>)      │             <span style=\"color: #00af00; text-decoration-color: #00af00\">0</span> │\n├─────────────────────────────────┼────────────────────────┼───────────────┤\n│ dropout_1 (<span style=\"color: #0087ff; text-decoration-color: #0087ff\">Dropout</span>)             │ (<span style=\"color: #00d7ff; text-decoration-color: #00d7ff\">None</span>, <span style=\"color: #00af00; text-decoration-color: #00af00\">5</span>, <span style=\"color: #00af00; text-decoration-color: #00af00\">5</span>, <span style=\"color: #00af00; text-decoration-color: #00af00\">128</span>)      │             <span style=\"color: #00af00; text-decoration-color: #00af00\">0</span> │\n├─────────────────────────────────┼────────────────────────┼───────────────┤\n│ separable_conv2d_4              │ (<span style=\"color: #00d7ff; text-decoration-color: #00d7ff\">None</span>, <span style=\"color: #00af00; text-decoration-color: #00af00\">3</span>, <span style=\"color: #00af00; text-decoration-color: #00af00\">3</span>, <span style=\"color: #00af00; text-decoration-color: #00af00\">128</span>)      │        <span style=\"color: #00af00; text-decoration-color: #00af00\">17,664</span> │\n│ (<span style=\"color: #0087ff; text-decoration-color: #0087ff\">SeparableConv2D</span>)               │                        │               │\n├─────────────────────────────────┼────────────────────────┼───────────────┤\n│ separable_conv2d_5              │ (<span style=\"color: #00d7ff; text-decoration-color: #00d7ff\">None</span>, <span style=\"color: #00af00; text-decoration-color: #00af00\">1</span>, <span style=\"color: #00af00; text-decoration-color: #00af00\">1</span>, <span style=\"color: #00af00; text-decoration-color: #00af00\">256</span>)      │        <span style=\"color: #00af00; text-decoration-color: #00af00\">34,176</span> │\n│ (<span style=\"color: #0087ff; text-decoration-color: #0087ff\">SeparableConv2D</span>)               │                        │               │\n├─────────────────────────────────┼────────────────────────┼───────────────┤\n│ global_average_pooling2d        │ (<span style=\"color: #00d7ff; text-decoration-color: #00d7ff\">None</span>, <span style=\"color: #00af00; text-decoration-color: #00af00\">256</span>)            │             <span style=\"color: #00af00; text-decoration-color: #00af00\">0</span> │\n│ (<span style=\"color: #0087ff; text-decoration-color: #0087ff\">GlobalAveragePooling2D</span>)        │                        │               │\n├─────────────────────────────────┼────────────────────────┼───────────────┤\n│ dense (<span style=\"color: #0087ff; text-decoration-color: #0087ff\">Dense</span>)                   │ (<span style=\"color: #00d7ff; text-decoration-color: #00d7ff\">None</span>, <span style=\"color: #00af00; text-decoration-color: #00af00\">64</span>)             │        <span style=\"color: #00af00; text-decoration-color: #00af00\">16,448</span> │\n├─────────────────────────────────┼────────────────────────┼───────────────┤\n│ dropout_2 (<span style=\"color: #0087ff; text-decoration-color: #0087ff\">Dropout</span>)             │ (<span style=\"color: #00d7ff; text-decoration-color: #00d7ff\">None</span>, <span style=\"color: #00af00; text-decoration-color: #00af00\">64</span>)             │             <span style=\"color: #00af00; text-decoration-color: #00af00\">0</span> │\n├─────────────────────────────────┼────────────────────────┼───────────────┤\n│ dense_1 (<span style=\"color: #0087ff; text-decoration-color: #0087ff\">Dense</span>)                 │ (<span style=\"color: #00d7ff; text-decoration-color: #00d7ff\">None</span>, <span style=\"color: #00af00; text-decoration-color: #00af00\">8</span>)              │           <span style=\"color: #00af00; text-decoration-color: #00af00\">520</span> │\n└─────────────────────────────────┴────────────────────────┴───────────────┘\n</pre>\n"
     },
     "metadata": {},
     "output_type": "display_data"
    },
    {
     "data": {
      "text/plain": "\u001B[1m Total params: \u001B[0m\u001B[38;5;34m84,916\u001B[0m (331.71 KB)\n",
      "text/html": "<pre style=\"white-space:pre;overflow-x:auto;line-height:normal;font-family:Menlo,'DejaVu Sans Mono',consolas,'Courier New',monospace\"><span style=\"font-weight: bold\"> Total params: </span><span style=\"color: #00af00; text-decoration-color: #00af00\">84,916</span> (331.71 KB)\n</pre>\n"
     },
     "metadata": {},
     "output_type": "display_data"
    },
    {
     "data": {
      "text/plain": "\u001B[1m Trainable params: \u001B[0m\u001B[38;5;34m84,913\u001B[0m (331.69 KB)\n",
      "text/html": "<pre style=\"white-space:pre;overflow-x:auto;line-height:normal;font-family:Menlo,'DejaVu Sans Mono',consolas,'Courier New',monospace\"><span style=\"font-weight: bold\"> Trainable params: </span><span style=\"color: #00af00; text-decoration-color: #00af00\">84,913</span> (331.69 KB)\n</pre>\n"
     },
     "metadata": {},
     "output_type": "display_data"
    },
    {
     "data": {
      "text/plain": "\u001B[1m Non-trainable params: \u001B[0m\u001B[38;5;34m3\u001B[0m (16.00 B)\n",
      "text/html": "<pre style=\"white-space:pre;overflow-x:auto;line-height:normal;font-family:Menlo,'DejaVu Sans Mono',consolas,'Courier New',monospace\"><span style=\"font-weight: bold\"> Non-trainable params: </span><span style=\"color: #00af00; text-decoration-color: #00af00\">3</span> (16.00 B)\n</pre>\n"
     },
     "metadata": {},
     "output_type": "display_data"
    }
   ],
   "execution_count": 11
  },
  {
   "cell_type": "code",
   "source": [
    "model.compile(\n",
    "    optimizer=tf.keras.optimizers.Adam(),\n",
    "    loss=tf.keras.losses.SparseCategoricalCrossentropy(from_logits=True),\n",
    "    metrics=['accuracy'],\n",
    ")"
   ],
   "metadata": {
    "collapsed": false,
    "ExecuteTime": {
     "end_time": "2025-01-16T19:54:05.883417379Z",
     "start_time": "2025-01-16T19:54:05.861370227Z"
    }
   },
   "id": "7811dd0d5aac4a81",
   "outputs": [],
   "execution_count": 12
  },
  {
   "cell_type": "code",
   "source": [
    "train_labels = train_labels.astype(np.float32)\n",
    "valid_labels = val_labels.astype(np.float32)"
   ],
   "metadata": {
    "collapsed": false,
    "ExecuteTime": {
     "end_time": "2025-01-16T19:54:07.587191902Z",
     "start_time": "2025-01-16T19:54:07.578837710Z"
    }
   },
   "id": "c8bd938a25f777ab",
   "outputs": [],
   "execution_count": 13
  },
  {
   "cell_type": "code",
   "source": [
    "EPOCHS = 100\n",
    "history = model.fit(train_data, train_labels,\n",
    "    validation_data=(valid_data, valid_labels),\n",
    "    epochs=EPOCHS,\n",
    "    callbacks=tf.keras.callbacks.EarlyStopping(verbose=1, patience=5),\n",
    "    batch_size=512\n",
    ")"
   ],
   "metadata": {
    "collapsed": false,
    "ExecuteTime": {
     "end_time": "2025-01-16T19:57:06.171240235Z",
     "start_time": "2025-01-16T19:54:08.639622370Z"
    }
   },
   "id": "8e764358b29de7e9",
   "outputs": [
    {
     "name": "stdout",
     "output_type": "stream",
     "text": [
      "Epoch 1/100\n"
     ]
    },
    {
     "name": "stderr",
     "output_type": "stream",
     "text": [
      "/home/vistek528/anaconda3/envs/DeepLearning/lib/python3.9/site-packages/keras/src/backend/tensorflow/nn.py:678: UserWarning: \"`sparse_categorical_crossentropy` received `from_logits=True`, but the `output` argument was produced by a Softmax activation and thus does not represent logits. Was this intended?\n",
      "  output, from_logits = _get_logits(\n",
      "WARNING: All log messages before absl::InitializeLog() is called are written to STDERR\n",
      "I0000 00:00:1737057252.121204    7843 service.cc:148] XLA service 0x719f040962d0 initialized for platform CUDA (this does not guarantee that XLA will be used). Devices:\n",
      "I0000 00:00:1737057252.121256    7843 service.cc:156]   StreamExecutor device (0): NVIDIA GeForce RTX 2070 Super, Compute Capability 7.5\n",
      "2025-01-16 20:54:12.183894: I tensorflow/compiler/mlir/tensorflow/utils/dump_mlir_util.cc:268] disabling MLIR crash reproducer, set env var `MLIR_CRASH_REPRODUCER_DIRECTORY` to enable.\n",
      "I0000 00:00:1737057252.479997    7843 cuda_dnn.cc:529] Loaded cuDNN version 90300\n"
     ]
    },
    {
     "name": "stdout",
     "output_type": "stream",
     "text": [
      "\u001B[1m 5/42\u001B[0m \u001B[32m━━\u001B[0m\u001B[37m━━━━━━━━━━━━━━━━━━\u001B[0m \u001B[1m1s\u001B[0m 34ms/step - accuracy: 0.1559 - loss: 2.0780"
     ]
    },
    {
     "name": "stderr",
     "output_type": "stream",
     "text": [
      "I0000 00:00:1737057259.166528    7843 device_compiler.h:188] Compiled cluster using XLA!  This line is logged at most once for the lifetime of the process.\n"
     ]
    },
    {
     "name": "stdout",
     "output_type": "stream",
     "text": [
      "\u001B[1m42/42\u001B[0m \u001B[32m━━━━━━━━━━━━━━━━━━━━\u001B[0m\u001B[37m\u001B[0m \u001B[1m17s\u001B[0m 177ms/step - accuracy: 0.1668 - loss: 2.0629 - val_accuracy: 0.2179 - val_loss: 2.0223\n",
      "Epoch 2/100\n",
      "\u001B[1m42/42\u001B[0m \u001B[32m━━━━━━━━━━━━━━━━━━━━\u001B[0m\u001B[37m\u001B[0m \u001B[1m1s\u001B[0m 30ms/step - accuracy: 0.1637 - loss: 2.0423 - val_accuracy: 0.2179 - val_loss: 2.0169\n",
      "Epoch 3/100\n",
      "\u001B[1m42/42\u001B[0m \u001B[32m━━━━━━━━━━━━━━━━━━━━\u001B[0m\u001B[37m\u001B[0m \u001B[1m1s\u001B[0m 29ms/step - accuracy: 0.1734 - loss: 2.0336 - val_accuracy: 0.2319 - val_loss: 1.9299\n",
      "Epoch 4/100\n",
      "\u001B[1m42/42\u001B[0m \u001B[32m━━━━━━━━━━━━━━━━━━━━\u001B[0m\u001B[37m\u001B[0m \u001B[1m1s\u001B[0m 29ms/step - accuracy: 0.2086 - loss: 1.9199 - val_accuracy: 0.2838 - val_loss: 1.7526\n",
      "Epoch 5/100\n",
      "\u001B[1m42/42\u001B[0m \u001B[32m━━━━━━━━━━━━━━━━━━━━\u001B[0m\u001B[37m\u001B[0m \u001B[1m1s\u001B[0m 29ms/step - accuracy: 0.2813 - loss: 1.7665 - val_accuracy: 0.3533 - val_loss: 1.6185\n",
      "Epoch 6/100\n",
      "\u001B[1m42/42\u001B[0m \u001B[32m━━━━━━━━━━━━━━━━━━━━\u001B[0m\u001B[37m\u001B[0m \u001B[1m1s\u001B[0m 29ms/step - accuracy: 0.3297 - loss: 1.6553 - val_accuracy: 0.3856 - val_loss: 1.5094\n",
      "Epoch 7/100\n",
      "\u001B[1m42/42\u001B[0m \u001B[32m━━━━━━━━━━━━━━━━━━━━\u001B[0m\u001B[37m\u001B[0m \u001B[1m1s\u001B[0m 29ms/step - accuracy: 0.3698 - loss: 1.5732 - val_accuracy: 0.4348 - val_loss: 1.4326\n",
      "Epoch 8/100\n",
      "\u001B[1m42/42\u001B[0m \u001B[32m━━━━━━━━━━━━━━━━━━━━\u001B[0m\u001B[37m\u001B[0m \u001B[1m1s\u001B[0m 29ms/step - accuracy: 0.4114 - loss: 1.4840 - val_accuracy: 0.4780 - val_loss: 1.3668\n",
      "Epoch 9/100\n",
      "\u001B[1m42/42\u001B[0m \u001B[32m━━━━━━━━━━━━━━━━━━━━\u001B[0m\u001B[37m\u001B[0m \u001B[1m1s\u001B[0m 29ms/step - accuracy: 0.4403 - loss: 1.4116 - val_accuracy: 0.4973 - val_loss: 1.2952\n",
      "Epoch 10/100\n",
      "\u001B[1m42/42\u001B[0m \u001B[32m━━━━━━━━━━━━━━━━━━━━\u001B[0m\u001B[37m\u001B[0m \u001B[1m1s\u001B[0m 29ms/step - accuracy: 0.4702 - loss: 1.3547 - val_accuracy: 0.5263 - val_loss: 1.2394\n",
      "Epoch 11/100\n",
      "\u001B[1m42/42\u001B[0m \u001B[32m━━━━━━━━━━━━━━━━━━━━\u001B[0m\u001B[37m\u001B[0m \u001B[1m1s\u001B[0m 29ms/step - accuracy: 0.4872 - loss: 1.3073 - val_accuracy: 0.5459 - val_loss: 1.1904\n",
      "Epoch 12/100\n",
      "\u001B[1m42/42\u001B[0m \u001B[32m━━━━━━━━━━━━━━━━━━━━\u001B[0m\u001B[37m\u001B[0m \u001B[1m1s\u001B[0m 29ms/step - accuracy: 0.5046 - loss: 1.2691 - val_accuracy: 0.5729 - val_loss: 1.1548\n",
      "Epoch 13/100\n",
      "\u001B[1m42/42\u001B[0m \u001B[32m━━━━━━━━━━━━━━━━━━━━\u001B[0m\u001B[37m\u001B[0m \u001B[1m1s\u001B[0m 29ms/step - accuracy: 0.5303 - loss: 1.2192 - val_accuracy: 0.5682 - val_loss: 1.0942\n",
      "Epoch 14/100\n",
      "\u001B[1m42/42\u001B[0m \u001B[32m━━━━━━━━━━━━━━━━━━━━\u001B[0m\u001B[37m\u001B[0m \u001B[1m1s\u001B[0m 29ms/step - accuracy: 0.5384 - loss: 1.1869 - val_accuracy: 0.5685 - val_loss: 1.0953\n",
      "Epoch 15/100\n",
      "\u001B[1m42/42\u001B[0m \u001B[32m━━━━━━━━━━━━━━━━━━━━\u001B[0m\u001B[37m\u001B[0m \u001B[1m1s\u001B[0m 29ms/step - accuracy: 0.5489 - loss: 1.1691 - val_accuracy: 0.6081 - val_loss: 1.0220\n",
      "Epoch 16/100\n",
      "\u001B[1m42/42\u001B[0m \u001B[32m━━━━━━━━━━━━━━━━━━━━\u001B[0m\u001B[37m\u001B[0m \u001B[1m1s\u001B[0m 29ms/step - accuracy: 0.5764 - loss: 1.1156 - val_accuracy: 0.6184 - val_loss: 0.9863\n",
      "Epoch 17/100\n",
      "\u001B[1m42/42\u001B[0m \u001B[32m━━━━━━━━━━━━━━━━━━━━\u001B[0m\u001B[37m\u001B[0m \u001B[1m1s\u001B[0m 29ms/step - accuracy: 0.5821 - loss: 1.0945 - val_accuracy: 0.6331 - val_loss: 0.9565\n",
      "Epoch 18/100\n",
      "\u001B[1m42/42\u001B[0m \u001B[32m━━━━━━━━━━━━━━━━━━━━\u001B[0m\u001B[37m\u001B[0m \u001B[1m7s\u001B[0m 168ms/step - accuracy: 0.6000 - loss: 1.0409 - val_accuracy: 0.6248 - val_loss: 0.9515\n",
      "Epoch 19/100\n",
      "\u001B[1m42/42\u001B[0m \u001B[32m━━━━━━━━━━━━━━━━━━━━\u001B[0m\u001B[37m\u001B[0m \u001B[1m1s\u001B[0m 29ms/step - accuracy: 0.5992 - loss: 1.0545 - val_accuracy: 0.6520 - val_loss: 0.9121\n",
      "Epoch 20/100\n",
      "\u001B[1m42/42\u001B[0m \u001B[32m━━━━━━━━━━━━━━━━━━━━\u001B[0m\u001B[37m\u001B[0m \u001B[1m1s\u001B[0m 30ms/step - accuracy: 0.6156 - loss: 0.9997 - val_accuracy: 0.6703 - val_loss: 0.8777\n",
      "Epoch 21/100\n",
      "\u001B[1m42/42\u001B[0m \u001B[32m━━━━━━━━━━━━━━━━━━━━\u001B[0m\u001B[37m\u001B[0m \u001B[1m1s\u001B[0m 29ms/step - accuracy: 0.6288 - loss: 0.9921 - val_accuracy: 0.6853 - val_loss: 0.8526\n",
      "Epoch 22/100\n",
      "\u001B[1m42/42\u001B[0m \u001B[32m━━━━━━━━━━━━━━━━━━━━\u001B[0m\u001B[37m\u001B[0m \u001B[1m1s\u001B[0m 29ms/step - accuracy: 0.6331 - loss: 0.9785 - val_accuracy: 0.6870 - val_loss: 0.8324\n",
      "Epoch 23/100\n",
      "\u001B[1m42/42\u001B[0m \u001B[32m━━━━━━━━━━━━━━━━━━━━\u001B[0m\u001B[37m\u001B[0m \u001B[1m1s\u001B[0m 29ms/step - accuracy: 0.6471 - loss: 0.9454 - val_accuracy: 0.6913 - val_loss: 0.8216\n",
      "Epoch 24/100\n",
      "\u001B[1m42/42\u001B[0m \u001B[32m━━━━━━━━━━━━━━━━━━━━\u001B[0m\u001B[37m\u001B[0m \u001B[1m1s\u001B[0m 29ms/step - accuracy: 0.6547 - loss: 0.9146 - val_accuracy: 0.6906 - val_loss: 0.8220\n",
      "Epoch 25/100\n",
      "\u001B[1m42/42\u001B[0m \u001B[32m━━━━━━━━━━━━━━━━━━━━\u001B[0m\u001B[37m\u001B[0m \u001B[1m1s\u001B[0m 29ms/step - accuracy: 0.6626 - loss: 0.8990 - val_accuracy: 0.6973 - val_loss: 0.8008\n",
      "Epoch 26/100\n",
      "\u001B[1m42/42\u001B[0m \u001B[32m━━━━━━━━━━━━━━━━━━━━\u001B[0m\u001B[37m\u001B[0m \u001B[1m1s\u001B[0m 29ms/step - accuracy: 0.6702 - loss: 0.8861 - val_accuracy: 0.7053 - val_loss: 0.7830\n",
      "Epoch 27/100\n",
      "\u001B[1m42/42\u001B[0m \u001B[32m━━━━━━━━━━━━━━━━━━━━\u001B[0m\u001B[37m\u001B[0m \u001B[1m1s\u001B[0m 29ms/step - accuracy: 0.6786 - loss: 0.8586 - val_accuracy: 0.7156 - val_loss: 0.7635\n",
      "Epoch 28/100\n",
      "\u001B[1m42/42\u001B[0m \u001B[32m━━━━━━━━━━━━━━━━━━━━\u001B[0m\u001B[37m\u001B[0m \u001B[1m7s\u001B[0m 165ms/step - accuracy: 0.6764 - loss: 0.8495 - val_accuracy: 0.7285 - val_loss: 0.7478\n",
      "Epoch 29/100\n",
      "\u001B[1m42/42\u001B[0m \u001B[32m━━━━━━━━━━━━━━━━━━━━\u001B[0m\u001B[37m\u001B[0m \u001B[1m1s\u001B[0m 29ms/step - accuracy: 0.6884 - loss: 0.8344 - val_accuracy: 0.7122 - val_loss: 0.7673\n",
      "Epoch 30/100\n",
      "\u001B[1m42/42\u001B[0m \u001B[32m━━━━━━━━━━━━━━━━━━━━\u001B[0m\u001B[37m\u001B[0m \u001B[1m1s\u001B[0m 30ms/step - accuracy: 0.6876 - loss: 0.8304 - val_accuracy: 0.7329 - val_loss: 0.7346\n",
      "Epoch 31/100\n",
      "\u001B[1m42/42\u001B[0m \u001B[32m━━━━━━━━━━━━━━━━━━━━\u001B[0m\u001B[37m\u001B[0m \u001B[1m1s\u001B[0m 30ms/step - accuracy: 0.6994 - loss: 0.8141 - val_accuracy: 0.7402 - val_loss: 0.7187\n",
      "Epoch 32/100\n",
      "\u001B[1m42/42\u001B[0m \u001B[32m━━━━━━━━━━━━━━━━━━━━\u001B[0m\u001B[37m\u001B[0m \u001B[1m1s\u001B[0m 29ms/step - accuracy: 0.7012 - loss: 0.8053 - val_accuracy: 0.7206 - val_loss: 0.7435\n",
      "Epoch 33/100\n",
      "\u001B[1m42/42\u001B[0m \u001B[32m━━━━━━━━━━━━━━━━━━━━\u001B[0m\u001B[37m\u001B[0m \u001B[1m7s\u001B[0m 165ms/step - accuracy: 0.7014 - loss: 0.8110 - val_accuracy: 0.7518 - val_loss: 0.6923\n",
      "Epoch 34/100\n",
      "\u001B[1m42/42\u001B[0m \u001B[32m━━━━━━━━━━━━━━━━━━━━\u001B[0m\u001B[37m\u001B[0m \u001B[1m1s\u001B[0m 29ms/step - accuracy: 0.7071 - loss: 0.7770 - val_accuracy: 0.7442 - val_loss: 0.6980\n",
      "Epoch 35/100\n",
      "\u001B[1m42/42\u001B[0m \u001B[32m━━━━━━━━━━━━━━━━━━━━\u001B[0m\u001B[37m\u001B[0m \u001B[1m1s\u001B[0m 30ms/step - accuracy: 0.7127 - loss: 0.7723 - val_accuracy: 0.7472 - val_loss: 0.6848\n",
      "Epoch 36/100\n",
      "\u001B[1m42/42\u001B[0m \u001B[32m━━━━━━━━━━━━━━━━━━━━\u001B[0m\u001B[37m\u001B[0m \u001B[1m1s\u001B[0m 30ms/step - accuracy: 0.7169 - loss: 0.7623 - val_accuracy: 0.7582 - val_loss: 0.6693\n",
      "Epoch 37/100\n",
      "\u001B[1m42/42\u001B[0m \u001B[32m━━━━━━━━━━━━━━━━━━━━\u001B[0m\u001B[37m\u001B[0m \u001B[1m1s\u001B[0m 30ms/step - accuracy: 0.7260 - loss: 0.7451 - val_accuracy: 0.7502 - val_loss: 0.6717\n",
      "Epoch 38/100\n",
      "\u001B[1m42/42\u001B[0m \u001B[32m━━━━━━━━━━━━━━━━━━━━\u001B[0m\u001B[37m\u001B[0m \u001B[1m7s\u001B[0m 168ms/step - accuracy: 0.7284 - loss: 0.7335 - val_accuracy: 0.7621 - val_loss: 0.6395\n",
      "Epoch 39/100\n",
      "\u001B[1m42/42\u001B[0m \u001B[32m━━━━━━━━━━━━━━━━━━━━\u001B[0m\u001B[37m\u001B[0m \u001B[1m1s\u001B[0m 29ms/step - accuracy: 0.7374 - loss: 0.7183 - val_accuracy: 0.7605 - val_loss: 0.6462\n",
      "Epoch 40/100\n",
      "\u001B[1m42/42\u001B[0m \u001B[32m━━━━━━━━━━━━━━━━━━━━\u001B[0m\u001B[37m\u001B[0m \u001B[1m1s\u001B[0m 30ms/step - accuracy: 0.7385 - loss: 0.7207 - val_accuracy: 0.7794 - val_loss: 0.6277\n",
      "Epoch 41/100\n",
      "\u001B[1m42/42\u001B[0m \u001B[32m━━━━━━━━━━━━━━━━━━━━\u001B[0m\u001B[37m\u001B[0m \u001B[1m1s\u001B[0m 30ms/step - accuracy: 0.7412 - loss: 0.7010 - val_accuracy: 0.7685 - val_loss: 0.6204\n",
      "Epoch 42/100\n",
      "\u001B[1m42/42\u001B[0m \u001B[32m━━━━━━━━━━━━━━━━━━━━\u001B[0m\u001B[37m\u001B[0m \u001B[1m1s\u001B[0m 30ms/step - accuracy: 0.7464 - loss: 0.6959 - val_accuracy: 0.7731 - val_loss: 0.6190\n",
      "Epoch 43/100\n",
      "\u001B[1m42/42\u001B[0m \u001B[32m━━━━━━━━━━━━━━━━━━━━\u001B[0m\u001B[37m\u001B[0m \u001B[1m7s\u001B[0m 168ms/step - accuracy: 0.7419 - loss: 0.7042 - val_accuracy: 0.7754 - val_loss: 0.6073\n",
      "Epoch 44/100\n",
      "\u001B[1m42/42\u001B[0m \u001B[32m━━━━━━━━━━━━━━━━━━━━\u001B[0m\u001B[37m\u001B[0m \u001B[1m1s\u001B[0m 29ms/step - accuracy: 0.7472 - loss: 0.6815 - val_accuracy: 0.7831 - val_loss: 0.6063\n",
      "Epoch 45/100\n",
      "\u001B[1m42/42\u001B[0m \u001B[32m━━━━━━━━━━━━━━━━━━━━\u001B[0m\u001B[37m\u001B[0m \u001B[1m1s\u001B[0m 30ms/step - accuracy: 0.7459 - loss: 0.6904 - val_accuracy: 0.7788 - val_loss: 0.5877\n",
      "Epoch 46/100\n",
      "\u001B[1m42/42\u001B[0m \u001B[32m━━━━━━━━━━━━━━━━━━━━\u001B[0m\u001B[37m\u001B[0m \u001B[1m1s\u001B[0m 30ms/step - accuracy: 0.7575 - loss: 0.6670 - val_accuracy: 0.7854 - val_loss: 0.5858\n",
      "Epoch 47/100\n",
      "\u001B[1m42/42\u001B[0m \u001B[32m━━━━━━━━━━━━━━━━━━━━\u001B[0m\u001B[37m\u001B[0m \u001B[1m1s\u001B[0m 29ms/step - accuracy: 0.7599 - loss: 0.6588 - val_accuracy: 0.7878 - val_loss: 0.5871\n",
      "Epoch 48/100\n",
      "\u001B[1m42/42\u001B[0m \u001B[32m━━━━━━━━━━━━━━━━━━━━\u001B[0m\u001B[37m\u001B[0m \u001B[1m7s\u001B[0m 169ms/step - accuracy: 0.7665 - loss: 0.6479 - val_accuracy: 0.7854 - val_loss: 0.5776\n",
      "Epoch 49/100\n",
      "\u001B[1m42/42\u001B[0m \u001B[32m━━━━━━━━━━━━━━━━━━━━\u001B[0m\u001B[37m\u001B[0m \u001B[1m1s\u001B[0m 29ms/step - accuracy: 0.7646 - loss: 0.6412 - val_accuracy: 0.7994 - val_loss: 0.5595\n",
      "Epoch 50/100\n",
      "\u001B[1m42/42\u001B[0m \u001B[32m━━━━━━━━━━━━━━━━━━━━\u001B[0m\u001B[37m\u001B[0m \u001B[1m1s\u001B[0m 30ms/step - accuracy: 0.7669 - loss: 0.6295 - val_accuracy: 0.7951 - val_loss: 0.5747\n",
      "Epoch 51/100\n",
      "\u001B[1m42/42\u001B[0m \u001B[32m━━━━━━━━━━━━━━━━━━━━\u001B[0m\u001B[37m\u001B[0m \u001B[1m1s\u001B[0m 30ms/step - accuracy: 0.7738 - loss: 0.6266 - val_accuracy: 0.7974 - val_loss: 0.5552\n",
      "Epoch 52/100\n",
      "\u001B[1m42/42\u001B[0m \u001B[32m━━━━━━━━━━━━━━━━━━━━\u001B[0m\u001B[37m\u001B[0m \u001B[1m1s\u001B[0m 30ms/step - accuracy: 0.7759 - loss: 0.6166 - val_accuracy: 0.7951 - val_loss: 0.5479\n",
      "Epoch 53/100\n",
      "\u001B[1m42/42\u001B[0m \u001B[32m━━━━━━━━━━━━━━━━━━━━\u001B[0m\u001B[37m\u001B[0m \u001B[1m7s\u001B[0m 168ms/step - accuracy: 0.7739 - loss: 0.6116 - val_accuracy: 0.7961 - val_loss: 0.5429\n",
      "Epoch 54/100\n",
      "\u001B[1m42/42\u001B[0m \u001B[32m━━━━━━━━━━━━━━━━━━━━\u001B[0m\u001B[37m\u001B[0m \u001B[1m1s\u001B[0m 29ms/step - accuracy: 0.7793 - loss: 0.6104 - val_accuracy: 0.8087 - val_loss: 0.5362\n",
      "Epoch 55/100\n",
      "\u001B[1m42/42\u001B[0m \u001B[32m━━━━━━━━━━━━━━━━━━━━\u001B[0m\u001B[37m\u001B[0m \u001B[1m1s\u001B[0m 30ms/step - accuracy: 0.7761 - loss: 0.6151 - val_accuracy: 0.7994 - val_loss: 0.5388\n",
      "Epoch 56/100\n",
      "\u001B[1m42/42\u001B[0m \u001B[32m━━━━━━━━━━━━━━━━━━━━\u001B[0m\u001B[37m\u001B[0m \u001B[1m1s\u001B[0m 30ms/step - accuracy: 0.7826 - loss: 0.5964 - val_accuracy: 0.8090 - val_loss: 0.5269\n",
      "Epoch 57/100\n",
      "\u001B[1m42/42\u001B[0m \u001B[32m━━━━━━━━━━━━━━━━━━━━\u001B[0m\u001B[37m\u001B[0m \u001B[1m1s\u001B[0m 30ms/step - accuracy: 0.7782 - loss: 0.6003 - val_accuracy: 0.8081 - val_loss: 0.5254\n",
      "Epoch 58/100\n",
      "\u001B[1m42/42\u001B[0m \u001B[32m━━━━━━━━━━━━━━━━━━━━\u001B[0m\u001B[37m\u001B[0m \u001B[1m7s\u001B[0m 168ms/step - accuracy: 0.7873 - loss: 0.5850 - val_accuracy: 0.8001 - val_loss: 0.5563\n",
      "Epoch 59/100\n",
      "\u001B[1m42/42\u001B[0m \u001B[32m━━━━━━━━━━━━━━━━━━━━\u001B[0m\u001B[37m\u001B[0m \u001B[1m1s\u001B[0m 30ms/step - accuracy: 0.7766 - loss: 0.6000 - val_accuracy: 0.8047 - val_loss: 0.5245\n",
      "Epoch 60/100\n",
      "\u001B[1m42/42\u001B[0m \u001B[32m━━━━━━━━━━━━━━━━━━━━\u001B[0m\u001B[37m\u001B[0m \u001B[1m1s\u001B[0m 30ms/step - accuracy: 0.7856 - loss: 0.5824 - val_accuracy: 0.8071 - val_loss: 0.5106\n",
      "Epoch 61/100\n",
      "\u001B[1m42/42\u001B[0m \u001B[32m━━━━━━━━━━━━━━━━━━━━\u001B[0m\u001B[37m\u001B[0m \u001B[1m1s\u001B[0m 30ms/step - accuracy: 0.7913 - loss: 0.5779 - val_accuracy: 0.8097 - val_loss: 0.5196\n",
      "Epoch 62/100\n",
      "\u001B[1m42/42\u001B[0m \u001B[32m━━━━━━━━━━━━━━━━━━━━\u001B[0m\u001B[37m\u001B[0m \u001B[1m1s\u001B[0m 30ms/step - accuracy: 0.7926 - loss: 0.5750 - val_accuracy: 0.8134 - val_loss: 0.5024\n",
      "Epoch 63/100\n",
      "\u001B[1m42/42\u001B[0m \u001B[32m━━━━━━━━━━━━━━━━━━━━\u001B[0m\u001B[37m\u001B[0m \u001B[1m7s\u001B[0m 168ms/step - accuracy: 0.7920 - loss: 0.5591 - val_accuracy: 0.8160 - val_loss: 0.5075\n",
      "Epoch 64/100\n",
      "\u001B[1m42/42\u001B[0m \u001B[32m━━━━━━━━━━━━━━━━━━━━\u001B[0m\u001B[37m\u001B[0m \u001B[1m1s\u001B[0m 30ms/step - accuracy: 0.7948 - loss: 0.5606 - val_accuracy: 0.8134 - val_loss: 0.5023\n",
      "Epoch 65/100\n",
      "\u001B[1m42/42\u001B[0m \u001B[32m━━━━━━━━━━━━━━━━━━━━\u001B[0m\u001B[37m\u001B[0m \u001B[1m1s\u001B[0m 30ms/step - accuracy: 0.7945 - loss: 0.5634 - val_accuracy: 0.8280 - val_loss: 0.4879\n",
      "Epoch 66/100\n",
      "\u001B[1m42/42\u001B[0m \u001B[32m━━━━━━━━━━━━━━━━━━━━\u001B[0m\u001B[37m\u001B[0m \u001B[1m1s\u001B[0m 30ms/step - accuracy: 0.7984 - loss: 0.5575 - val_accuracy: 0.8250 - val_loss: 0.4948\n",
      "Epoch 67/100\n",
      "\u001B[1m42/42\u001B[0m \u001B[32m━━━━━━━━━━━━━━━━━━━━\u001B[0m\u001B[37m\u001B[0m \u001B[1m1s\u001B[0m 30ms/step - accuracy: 0.8074 - loss: 0.5336 - val_accuracy: 0.8244 - val_loss: 0.4947\n",
      "Epoch 68/100\n",
      "\u001B[1m42/42\u001B[0m \u001B[32m━━━━━━━━━━━━━━━━━━━━\u001B[0m\u001B[37m\u001B[0m \u001B[1m7s\u001B[0m 168ms/step - accuracy: 0.8051 - loss: 0.5356 - val_accuracy: 0.8174 - val_loss: 0.4945\n",
      "Epoch 69/100\n",
      "\u001B[1m42/42\u001B[0m \u001B[32m━━━━━━━━━━━━━━━━━━━━\u001B[0m\u001B[37m\u001B[0m \u001B[1m1s\u001B[0m 30ms/step - accuracy: 0.8059 - loss: 0.5326 - val_accuracy: 0.8290 - val_loss: 0.4794\n",
      "Epoch 70/100\n",
      "\u001B[1m42/42\u001B[0m \u001B[32m━━━━━━━━━━━━━━━━━━━━\u001B[0m\u001B[37m\u001B[0m \u001B[1m1s\u001B[0m 30ms/step - accuracy: 0.8025 - loss: 0.5391 - val_accuracy: 0.8277 - val_loss: 0.4731\n",
      "Epoch 71/100\n",
      "\u001B[1m42/42\u001B[0m \u001B[32m━━━━━━━━━━━━━━━━━━━━\u001B[0m\u001B[37m\u001B[0m \u001B[1m1s\u001B[0m 30ms/step - accuracy: 0.8070 - loss: 0.5285 - val_accuracy: 0.8240 - val_loss: 0.4865\n",
      "Epoch 72/100\n",
      "\u001B[1m42/42\u001B[0m \u001B[32m━━━━━━━━━━━━━━━━━━━━\u001B[0m\u001B[37m\u001B[0m \u001B[1m1s\u001B[0m 30ms/step - accuracy: 0.8056 - loss: 0.5311 - val_accuracy: 0.8377 - val_loss: 0.4631\n",
      "Epoch 73/100\n",
      "\u001B[1m42/42\u001B[0m \u001B[32m━━━━━━━━━━━━━━━━━━━━\u001B[0m\u001B[37m\u001B[0m \u001B[1m7s\u001B[0m 168ms/step - accuracy: 0.8117 - loss: 0.5260 - val_accuracy: 0.8283 - val_loss: 0.4777\n",
      "Epoch 74/100\n",
      "\u001B[1m42/42\u001B[0m \u001B[32m━━━━━━━━━━━━━━━━━━━━\u001B[0m\u001B[37m\u001B[0m \u001B[1m1s\u001B[0m 29ms/step - accuracy: 0.8099 - loss: 0.5281 - val_accuracy: 0.8300 - val_loss: 0.4772\n",
      "Epoch 75/100\n",
      "\u001B[1m42/42\u001B[0m \u001B[32m━━━━━━━━━━━━━━━━━━━━\u001B[0m\u001B[37m\u001B[0m \u001B[1m1s\u001B[0m 30ms/step - accuracy: 0.8058 - loss: 0.5313 - val_accuracy: 0.8224 - val_loss: 0.4782\n",
      "Epoch 76/100\n",
      "\u001B[1m42/42\u001B[0m \u001B[32m━━━━━━━━━━━━━━━━━━━━\u001B[0m\u001B[37m\u001B[0m \u001B[1m1s\u001B[0m 30ms/step - accuracy: 0.8167 - loss: 0.5090 - val_accuracy: 0.8303 - val_loss: 0.4746\n",
      "Epoch 77/100\n",
      "\u001B[1m42/42\u001B[0m \u001B[32m━━━━━━━━━━━━━━━━━━━━\u001B[0m\u001B[37m\u001B[0m \u001B[1m1s\u001B[0m 30ms/step - accuracy: 0.8165 - loss: 0.5018 - val_accuracy: 0.8357 - val_loss: 0.4638\n",
      "Epoch 77: early stopping\n"
     ]
    }
   ],
   "execution_count": 14
  },
  {
   "cell_type": "code",
   "source": [
    "plt.plot(history.history[\"accuracy\"])\n",
    "plt.plot(history.history[\"val_accuracy\"])\n",
    "plt.legend([\"Train\", \"Validation\"])\n",
    "plt.xlabel(\"Epoch\")\n",
    "plt.ylabel(\"Accuracy\")\n",
    "plt.show()"
   ],
   "metadata": {
    "collapsed": false,
    "ExecuteTime": {
     "end_time": "2025-01-16T19:00:46.016259412Z",
     "start_time": "2025-01-16T19:00:45.914946503Z"
    }
   },
   "id": "5513b388f35c21fe",
   "outputs": [
    {
     "data": {
      "text/plain": "<Figure size 640x480 with 1 Axes>",
      "image/png": "[encoded data removed]"
     },
     "metadata": {},
     "output_type": "display_data"
    }
   ],
   "execution_count": 43
  },
  {
   "cell_type": "code",
   "source": [
    "plt.plot(history.history[\"loss\"])\n",
    "plt.plot(history.history[\"val_loss\"])\n",
    "plt.legend([\"Train\", \"Validation\"])\n",
    "plt.xlabel(\"Epoch\")\n",
    "plt.ylabel(\"Loss\")\n",
    "plt.show()"
   ],
   "metadata": {
    "collapsed": false,
    "ExecuteTime": {
     "end_time": "2025-01-16T18:48:30.632760404Z",
     "start_time": "2025-01-16T18:48:30.524182209Z"
    }
   },
   "id": "3dc4513dc1b338b2",
   "outputs": [
    {
     "data": {
      "text/plain": "<Figure size 640x480 with 1 Axes>",
      "image/png": "[encoded data removed]"
     },
     "metadata": {},
     "output_type": "display_data"
    }
   ],
   "execution_count": 18
  },
  {
   "cell_type": "code",
   "source": [
    "raw_test_data, raw_data_label = next(iter(dataset[\"test\"].take(1)))"
   ],
   "metadata": {
    "collapsed": false
   },
   "id": "3b976257c4dc2d9e",
   "outputs": [],
   "execution_count": null
  },
  {
   "cell_type": "code",
   "outputs": [],
   "source": [
    "display.Audio(raw_test_data.numpy(), rate=16000)"
   ],
   "metadata": {
    "collapsed": false
   },
   "id": "6a4aab31b25b1b1d",
   "execution_count": null
  },
  {
   "cell_type": "code",
   "source": [
    "# Add batch dimension to the first sample of test_data\n",
    "sample = test_data[0]\n",
    "\n",
    "\n",
    "img_array = tf.expand_dims(sample, 0)\n",
    "print(img_array.shape)\n",
    "\n",
    "prediction = np.argmax(model.predict(img_array), axis=1)\n",
    "print(f\"Prediction: {prediction}\")"
   ],
   "metadata": {
    "collapsed": false
   },
   "id": "92f1139d0093ebf8",
   "outputs": [],
   "execution_count": null
  },
  {
   "cell_type": "code",
   "source": [
    "results = model.evaluate(test_data, test_labels, batch_size=128)\n",
    "print(\"test loss, test acc:\", results)"
   ],
   "metadata": {
    "collapsed": false,
    "ExecuteTime": {
     "end_time": "2025-01-16T19:00:54.592431562Z",
     "start_time": "2025-01-16T19:00:52.525948078Z"
    }
   },
   "id": "6e2e51686325d455",
   "outputs": [
    {
     "name": "stderr",
     "output_type": "stream",
     "text": [
      "2025-01-16 20:00:53.272787: I external/local_xla/xla/service/gpu/autotuning/conv_algorithm_picker.cc:557] Omitted potentially buggy algorithm eng14{k25=0} for conv (f32[128,16,30,30]{3,2,1,0}, u8[0]{0}) custom-call(f32[128,1,32,32]{3,2,1,0}, f32[16,1,3,3]{3,2,1,0}, f32[16]{0}), window={size=3x3}, dim_labels=bf01_oi01->bf01, custom_call_target=\"__cudnn$convBiasActivationForward\", backend_config={\"cudnn_conv_backend_config\":{\"activation_mode\":\"kNone\",\"conv_result_scale\":1,\"leakyrelu_alpha\":0,\"side_input_scale\":0},\"force_earliest_schedule\":false,\"operation_queue_id\":\"0\",\"wait_on_operation_queues\":[]}\n",
      "2025-01-16 20:00:53.313146: I external/local_xla/xla/service/gpu/autotuning/conv_algorithm_picker.cc:557] Omitted potentially buggy algorithm eng14{k25=0} for conv (f32[128,32,28,28]{3,2,1,0}, u8[0]{0}) custom-call(f32[128,16,30,30]{3,2,1,0}, f32[32,16,3,3]{3,2,1,0}, f32[32]{0}), window={size=3x3}, dim_labels=bf01_oi01->bf01, custom_call_target=\"__cudnn$convBiasActivationForward\", backend_config={\"cudnn_conv_backend_config\":{\"activation_mode\":\"kNone\",\"conv_result_scale\":1,\"leakyrelu_alpha\":0,\"side_input_scale\":0},\"force_earliest_schedule\":false,\"operation_queue_id\":\"0\",\"wait_on_operation_queues\":[]}\n",
      "2025-01-16 20:00:53.345046: I external/local_xla/xla/service/gpu/autotuning/conv_algorithm_picker.cc:557] Omitted potentially buggy algorithm eng14{k25=0} for conv (f32[128,32,12,12]{3,2,1,0}, u8[0]{0}) custom-call(f32[128,32,14,14]{3,2,1,0}, f32[32,32,3,3]{3,2,1,0}, f32[32]{0}), window={size=3x3}, dim_labels=bf01_oi01->bf01, custom_call_target=\"__cudnn$convBiasActivationForward\", backend_config={\"cudnn_conv_backend_config\":{\"activation_mode\":\"kNone\",\"conv_result_scale\":1,\"leakyrelu_alpha\":0,\"side_input_scale\":0},\"force_earliest_schedule\":false,\"operation_queue_id\":\"0\",\"wait_on_operation_queues\":[]}\n",
      "2025-01-16 20:00:53.388478: I external/local_xla/xla/service/gpu/autotuning/conv_algorithm_picker.cc:557] Omitted potentially buggy algorithm eng14{k25=0} for conv (f32[128,64,10,10]{3,2,1,0}, u8[0]{0}) custom-call(f32[128,32,12,12]{3,2,1,0}, f32[64,32,3,3]{3,2,1,0}, f32[64]{0}), window={size=3x3}, dim_labels=bf01_oi01->bf01, custom_call_target=\"__cudnn$convBiasActivationForward\", backend_config={\"cudnn_conv_backend_config\":{\"activation_mode\":\"kNone\",\"conv_result_scale\":1,\"leakyrelu_alpha\":0,\"side_input_scale\":0},\"force_earliest_schedule\":false,\"operation_queue_id\":\"0\",\"wait_on_operation_queues\":[]}\n"
     ]
    },
    {
     "name": "stdout",
     "output_type": "stream",
     "text": [
      "\u001B[1m36/47\u001B[0m \u001B[32m━━━━━━━━━━━━━━━\u001B[0m\u001B[37m━━━━━\u001B[0m \u001B[1m0s\u001B[0m 3ms/step - accuracy: 0.8746 - loss: 0.3969"
     ]
    },
    {
     "name": "stderr",
     "output_type": "stream",
     "text": [
      "2025-01-16 20:00:54.006982: I external/local_xla/xla/service/gpu/autotuning/conv_algorithm_picker.cc:557] Omitted potentially buggy algorithm eng14{k25=0} for conv (f32[127,16,30,30]{3,2,1,0}, u8[0]{0}) custom-call(f32[127,1,32,32]{3,2,1,0}, f32[16,1,3,3]{3,2,1,0}, f32[16]{0}), window={size=3x3}, dim_labels=bf01_oi01->bf01, custom_call_target=\"__cudnn$convBiasActivationForward\", backend_config={\"cudnn_conv_backend_config\":{\"activation_mode\":\"kNone\",\"conv_result_scale\":1,\"leakyrelu_alpha\":0,\"side_input_scale\":0},\"force_earliest_schedule\":false,\"operation_queue_id\":\"0\",\"wait_on_operation_queues\":[]}\n",
      "2025-01-16 20:00:54.050538: I external/local_xla/xla/service/gpu/autotuning/conv_algorithm_picker.cc:557] Omitted potentially buggy algorithm eng14{k25=0} for conv (f32[127,32,28,28]{3,2,1,0}, u8[0]{0}) custom-call(f32[127,16,30,30]{3,2,1,0}, f32[32,16,3,3]{3,2,1,0}, f32[32]{0}), window={size=3x3}, dim_labels=bf01_oi01->bf01, custom_call_target=\"__cudnn$convBiasActivationForward\", backend_config={\"cudnn_conv_backend_config\":{\"activation_mode\":\"kNone\",\"conv_result_scale\":1,\"leakyrelu_alpha\":0,\"side_input_scale\":0},\"force_earliest_schedule\":false,\"operation_queue_id\":\"0\",\"wait_on_operation_queues\":[]}\n",
      "2025-01-16 20:00:54.080855: I external/local_xla/xla/service/gpu/autotuning/conv_algorithm_picker.cc:557] Omitted potentially buggy algorithm eng14{k25=0} for conv (f32[127,32,12,12]{3,2,1,0}, u8[0]{0}) custom-call(f32[127,32,14,14]{3,2,1,0}, f32[32,32,3,3]{3,2,1,0}, f32[32]{0}), window={size=3x3}, dim_labels=bf01_oi01->bf01, custom_call_target=\"__cudnn$convBiasActivationForward\", backend_config={\"cudnn_conv_backend_config\":{\"activation_mode\":\"kNone\",\"conv_result_scale\":1,\"leakyrelu_alpha\":0,\"side_input_scale\":0},\"force_earliest_schedule\":false,\"operation_queue_id\":\"0\",\"wait_on_operation_queues\":[]}\n",
      "2025-01-16 20:00:54.124091: I external/local_xla/xla/service/gpu/autotuning/conv_algorithm_picker.cc:557] Omitted potentially buggy algorithm eng14{k25=0} for conv (f32[127,64,10,10]{3,2,1,0}, u8[0]{0}) custom-call(f32[127,32,12,12]{3,2,1,0}, f32[64,32,3,3]{3,2,1,0}, f32[64]{0}), window={size=3x3}, dim_labels=bf01_oi01->bf01, custom_call_target=\"__cudnn$convBiasActivationForward\", backend_config={\"cudnn_conv_backend_config\":{\"activation_mode\":\"kNone\",\"conv_result_scale\":1,\"leakyrelu_alpha\":0,\"side_input_scale\":0},\"force_earliest_schedule\":false,\"operation_queue_id\":\"0\",\"wait_on_operation_queues\":[]}\n"
     ]
    },
    {
     "name": "stdout",
     "output_type": "stream",
     "text": [
      "\u001B[1m47/47\u001B[0m \u001B[32m━━━━━━━━━━━━━━━━━━━━\u001B[0m\u001B[37m\u001B[0m \u001B[1m2s\u001B[0m 17ms/step - accuracy: 0.8727 - loss: 0.3990\n",
      "test loss, test acc: [0.40724632143974304, 0.865835428237915]\n"
     ]
    }
   ],
   "execution_count": 44
  },
  {
   "cell_type": "code",
   "source": [
    "y_pred = np.argmax(model.predict(test_data), axis=1)"
   ],
   "metadata": {
    "collapsed": false,
    "ExecuteTime": {
     "end_time": "2025-01-16T19:01:05.222136712Z",
     "start_time": "2025-01-16T19:01:03.141516737Z"
    }
   },
   "id": "ba43df74cd26a87e",
   "outputs": [
    {
     "name": "stderr",
     "output_type": "stream",
     "text": [
      "2025-01-16 20:01:03.772853: I external/local_xla/xla/service/gpu/autotuning/conv_algorithm_picker.cc:557] Omitted potentially buggy algorithm eng14{k25=0} for conv (f32[32,16,30,30]{3,2,1,0}, u8[0]{0}) custom-call(f32[32,1,32,32]{3,2,1,0}, f32[16,1,3,3]{3,2,1,0}, f32[16]{0}), window={size=3x3}, dim_labels=bf01_oi01->bf01, custom_call_target=\"__cudnn$convBiasActivationForward\", backend_config={\"cudnn_conv_backend_config\":{\"activation_mode\":\"kNone\",\"conv_result_scale\":1,\"leakyrelu_alpha\":0,\"side_input_scale\":0},\"force_earliest_schedule\":false,\"operation_queue_id\":\"0\",\"wait_on_operation_queues\":[]}\n",
      "2025-01-16 20:01:03.829429: I external/local_xla/xla/service/gpu/autotuning/conv_algorithm_picker.cc:557] Omitted potentially buggy algorithm eng14{k25=0} for conv (f32[32,32,28,28]{3,2,1,0}, u8[0]{0}) custom-call(f32[32,16,30,30]{3,2,1,0}, f32[32,16,3,3]{3,2,1,0}, f32[32]{0}), window={size=3x3}, dim_labels=bf01_oi01->bf01, custom_call_target=\"__cudnn$convBiasActivationForward\", backend_config={\"cudnn_conv_backend_config\":{\"activation_mode\":\"kNone\",\"conv_result_scale\":1,\"leakyrelu_alpha\":0,\"side_input_scale\":0},\"force_earliest_schedule\":false,\"operation_queue_id\":\"0\",\"wait_on_operation_queues\":[]}\n",
      "2025-01-16 20:01:03.862499: I external/local_xla/xla/service/gpu/autotuning/conv_algorithm_picker.cc:557] Omitted potentially buggy algorithm eng14{k25=0} for conv (f32[32,32,12,12]{3,2,1,0}, u8[0]{0}) custom-call(f32[32,32,14,14]{3,2,1,0}, f32[32,32,3,3]{3,2,1,0}, f32[32]{0}), window={size=3x3}, dim_labels=bf01_oi01->bf01, custom_call_target=\"__cudnn$convBiasActivationForward\", backend_config={\"cudnn_conv_backend_config\":{\"activation_mode\":\"kNone\",\"conv_result_scale\":1,\"leakyrelu_alpha\":0,\"side_input_scale\":0},\"force_earliest_schedule\":false,\"operation_queue_id\":\"0\",\"wait_on_operation_queues\":[]}\n",
      "2025-01-16 20:01:03.916012: I external/local_xla/xla/service/gpu/autotuning/conv_algorithm_picker.cc:557] Omitted potentially buggy algorithm eng14{k25=0} for conv (f32[32,64,10,10]{3,2,1,0}, u8[0]{0}) custom-call(f32[32,32,12,12]{3,2,1,0}, f32[64,32,3,3]{3,2,1,0}, f32[64]{0}), window={size=3x3}, dim_labels=bf01_oi01->bf01, custom_call_target=\"__cudnn$convBiasActivationForward\", backend_config={\"cudnn_conv_backend_config\":{\"activation_mode\":\"kNone\",\"conv_result_scale\":1,\"leakyrelu_alpha\":0,\"side_input_scale\":0},\"force_earliest_schedule\":false,\"operation_queue_id\":\"0\",\"wait_on_operation_queues\":[]}\n"
     ]
    },
    {
     "name": "stdout",
     "output_type": "stream",
     "text": [
      "\u001B[1m186/188\u001B[0m \u001B[32m━━━━━━━━━━━━━━━━━━━\u001B[0m\u001B[37m━\u001B[0m \u001B[1m0s\u001B[0m 1ms/step"
     ]
    },
    {
     "name": "stderr",
     "output_type": "stream",
     "text": [
      "2025-01-16 20:01:04.687659: I external/local_xla/xla/service/gpu/autotuning/conv_algorithm_picker.cc:557] Omitted potentially buggy algorithm eng14{k25=0} for conv (f32[31,16,30,30]{3,2,1,0}, u8[0]{0}) custom-call(f32[31,1,32,32]{3,2,1,0}, f32[16,1,3,3]{3,2,1,0}, f32[16]{0}), window={size=3x3}, dim_labels=bf01_oi01->bf01, custom_call_target=\"__cudnn$convBiasActivationForward\", backend_config={\"cudnn_conv_backend_config\":{\"activation_mode\":\"kNone\",\"conv_result_scale\":1,\"leakyrelu_alpha\":0,\"side_input_scale\":0},\"force_earliest_schedule\":false,\"operation_queue_id\":\"0\",\"wait_on_operation_queues\":[]}\n",
      "2025-01-16 20:01:04.717903: I external/local_xla/xla/service/gpu/autotuning/conv_algorithm_picker.cc:557] Omitted potentially buggy algorithm eng14{k25=0} for conv (f32[31,32,28,28]{3,2,1,0}, u8[0]{0}) custom-call(f32[31,16,30,30]{3,2,1,0}, f32[32,16,3,3]{3,2,1,0}, f32[32]{0}), window={size=3x3}, dim_labels=bf01_oi01->bf01, custom_call_target=\"__cudnn$convBiasActivationForward\", backend_config={\"cudnn_conv_backend_config\":{\"activation_mode\":\"kNone\",\"conv_result_scale\":1,\"leakyrelu_alpha\":0,\"side_input_scale\":0},\"force_earliest_schedule\":false,\"operation_queue_id\":\"0\",\"wait_on_operation_queues\":[]}\n",
      "2025-01-16 20:01:04.733697: I external/local_xla/xla/service/gpu/autotuning/conv_algorithm_picker.cc:557] Omitted potentially buggy algorithm eng14{k25=0} for conv (f32[31,32,12,12]{3,2,1,0}, u8[0]{0}) custom-call(f32[31,32,14,14]{3,2,1,0}, f32[32,32,3,3]{3,2,1,0}, f32[32]{0}), window={size=3x3}, dim_labels=bf01_oi01->bf01, custom_call_target=\"__cudnn$convBiasActivationForward\", backend_config={\"cudnn_conv_backend_config\":{\"activation_mode\":\"kNone\",\"conv_result_scale\":1,\"leakyrelu_alpha\":0,\"side_input_scale\":0},\"force_earliest_schedule\":false,\"operation_queue_id\":\"0\",\"wait_on_operation_queues\":[]}\n",
      "2025-01-16 20:01:04.778255: I external/local_xla/xla/service/gpu/autotuning/conv_algorithm_picker.cc:557] Omitted potentially buggy algorithm eng14{k25=0} for conv (f32[31,64,10,10]{3,2,1,0}, u8[0]{0}) custom-call(f32[31,32,12,12]{3,2,1,0}, f32[64,32,3,3]{3,2,1,0}, f32[64]{0}), window={size=3x3}, dim_labels=bf01_oi01->bf01, custom_call_target=\"__cudnn$convBiasActivationForward\", backend_config={\"cudnn_conv_backend_config\":{\"activation_mode\":\"kNone\",\"conv_result_scale\":1,\"leakyrelu_alpha\":0,\"side_input_scale\":0},\"force_earliest_schedule\":false,\"operation_queue_id\":\"0\",\"wait_on_operation_queues\":[]}\n"
     ]
    },
    {
     "name": "stdout",
     "output_type": "stream",
     "text": [
      "\u001B[1m188/188\u001B[0m \u001B[32m━━━━━━━━━━━━━━━━━━━━\u001B[0m\u001B[37m\u001B[0m \u001B[1m2s\u001B[0m 5ms/step\n"
     ]
    }
   ],
   "execution_count": 45
  },
  {
   "cell_type": "code",
   "source": [
    "import seaborn as sns"
   ],
   "metadata": {
    "collapsed": false,
    "ExecuteTime": {
     "end_time": "2025-01-16T18:48:51.063856744Z",
     "start_time": "2025-01-16T18:48:51.021789775Z"
    }
   },
   "id": "f4496ad88ab67f1a",
   "outputs": [],
   "execution_count": 22
  },
  {
   "cell_type": "code",
   "source": [],
   "metadata": {
    "collapsed": false
   },
   "id": "1e96ad45ff262882",
   "outputs": [],
   "execution_count": null
  },
  {
   "cell_type": "code",
   "source": [
    "confusion_mtx = tf.math.confusion_matrix(test_labels, y_pred)\n",
    "plt.figure(figsize=(10, 8))\n",
    "sns.heatmap(confusion_mtx,\n",
    "            xticklabels=commands,\n",
    "            yticklabels=commands,\n",
    "            annot=True, fmt='g')\n",
    "plt.xlabel('Prediction')\n",
    "plt.ylabel('Label')\n",
    "plt.show()"
   ],
   "metadata": {
    "collapsed": false,
    "ExecuteTime": {
     "end_time": "2025-01-16T19:01:10.532958937Z",
     "start_time": "2025-01-16T19:01:10.283655527Z"
    }
   },
   "id": "5621b222e1b3d5b4",
   "outputs": [
    {
     "data": {
      "text/plain": "<Figure size 1000x800 with 2 Axes>",
      "image/png": "[encoded data removed]"
     },
     "metadata": {},
     "output_type": "display_data"
    }
   ],
   "execution_count": 46
  },
  {
   "cell_type": "code",
   "source": [
    "model.save(\"/home/vistek528/TRA_PROJ/NET_prototype/tra_medium_model_86test_acc_8kHz_PioterSTFT.keras\")"
   ],
   "metadata": {
    "collapsed": false,
    "ExecuteTime": {
     "end_time": "2025-01-16T19:01:27.627043201Z",
     "start_time": "2025-01-16T19:01:27.577621946Z"
    }
   },
   "id": "7298cf19cb1fd654",
   "outputs": [],
   "execution_count": 47
  },
  {
   "cell_type": "markdown",
   "source": [
    "# Fine-tuning"
   ],
   "metadata": {
    "collapsed": false
   },
   "id": "7b884d92ca15c5f8"
  },
  {
   "cell_type": "code",
   "outputs": [],
   "source": [
    "model = tf.keras.models.load_model(\"tra_medium_model_with_recursive_layer_86test_acc_8kHz_PioterSTFT.keras\")"
   ],
   "metadata": {
    "collapsed": false,
    "ExecuteTime": {
     "end_time": "2025-01-16T18:50:17.355886255Z",
     "start_time": "2025-01-16T18:50:17.186951266Z"
    }
   },
   "id": "c736fdef869848ff",
   "execution_count": 28
  },
  {
   "cell_type": "code",
   "outputs": [],
   "source": [
    "lr = 1e-5\n",
    "model.compile(\n",
    "    optimizer=tf.keras.optimizers.Adam(learning_rate=lr),\n",
    "    loss=tf.keras.losses.SparseCategoricalCrossentropy(from_logits=True),\n",
    "    metrics=['accuracy'],\n",
    ")"
   ],
   "metadata": {
    "collapsed": false,
    "ExecuteTime": {
     "end_time": "2025-01-16T18:50:22.539082598Z",
     "start_time": "2025-01-16T18:50:22.493767857Z"
    }
   },
   "id": "5dd8f5611f20e95d",
   "execution_count": 29
  },
  {
   "cell_type": "code",
   "outputs": [
    {
     "name": "stdout",
     "output_type": "stream",
     "text": [
      "Epoch 1/100\n",
      "\u001B[1m21/21\u001B[0m \u001B[32m━━━━━━━━━━━━━━━━━━━━\u001B[0m\u001B[37m\u001B[0m \u001B[1m3s\u001B[0m 65ms/step - accuracy: 0.8692 - loss: 0.3685 - val_accuracy: 0.8619 - val_loss: 0.3973\n",
      "Epoch 2/100\n",
      "\u001B[1m21/21\u001B[0m \u001B[32m━━━━━━━━━━━━━━━━━━━━\u001B[0m\u001B[37m\u001B[0m \u001B[1m1s\u001B[0m 51ms/step - accuracy: 0.8792 - loss: 0.3388 - val_accuracy: 0.8629 - val_loss: 0.3939\n",
      "Epoch 3/100\n",
      "\u001B[1m21/21\u001B[0m \u001B[32m━━━━━━━━━━━━━━━━━━━━\u001B[0m\u001B[37m\u001B[0m \u001B[1m1s\u001B[0m 52ms/step - accuracy: 0.8814 - loss: 0.3397 - val_accuracy: 0.8639 - val_loss: 0.3907\n",
      "Epoch 4/100\n",
      "\u001B[1m21/21\u001B[0m \u001B[32m━━━━━━━━━━━━━━━━━━━━\u001B[0m\u001B[37m\u001B[0m \u001B[1m1s\u001B[0m 52ms/step - accuracy: 0.8803 - loss: 0.3396 - val_accuracy: 0.8643 - val_loss: 0.3894\n",
      "Epoch 5/100\n",
      "\u001B[1m21/21\u001B[0m \u001B[32m━━━━━━━━━━━━━━━━━━━━\u001B[0m\u001B[37m\u001B[0m \u001B[1m1s\u001B[0m 53ms/step - accuracy: 0.8811 - loss: 0.3435 - val_accuracy: 0.8646 - val_loss: 0.3886\n",
      "Epoch 6/100\n",
      "\u001B[1m21/21\u001B[0m \u001B[32m━━━━━━━━━━━━━━━━━━━━\u001B[0m\u001B[37m\u001B[0m \u001B[1m1s\u001B[0m 55ms/step - accuracy: 0.8859 - loss: 0.3344 - val_accuracy: 0.8656 - val_loss: 0.3878\n",
      "Epoch 7/100\n",
      "\u001B[1m21/21\u001B[0m \u001B[32m━━━━━━━━━━━━━━━━━━━━\u001B[0m\u001B[37m\u001B[0m \u001B[1m1s\u001B[0m 55ms/step - accuracy: 0.8806 - loss: 0.3388 - val_accuracy: 0.8669 - val_loss: 0.3866\n",
      "Epoch 8/100\n",
      "\u001B[1m21/21\u001B[0m \u001B[32m━━━━━━━━━━━━━━━━━━━━\u001B[0m\u001B[37m\u001B[0m \u001B[1m1s\u001B[0m 54ms/step - accuracy: 0.8832 - loss: 0.3384 - val_accuracy: 0.8673 - val_loss: 0.3860\n",
      "Epoch 9/100\n",
      "\u001B[1m21/21\u001B[0m \u001B[32m━━━━━━━━━━━━━━━━━━━━\u001B[0m\u001B[37m\u001B[0m \u001B[1m1s\u001B[0m 55ms/step - accuracy: 0.8828 - loss: 0.3372 - val_accuracy: 0.8669 - val_loss: 0.3856\n",
      "Epoch 10/100\n",
      "\u001B[1m21/21\u001B[0m \u001B[32m━━━━━━━━━━━━━━━━━━━━\u001B[0m\u001B[37m\u001B[0m \u001B[1m1s\u001B[0m 56ms/step - accuracy: 0.8828 - loss: 0.3339 - val_accuracy: 0.8669 - val_loss: 0.3859\n",
      "Epoch 11/100\n",
      "\u001B[1m21/21\u001B[0m \u001B[32m━━━━━━━━━━━━━━━━━━━━\u001B[0m\u001B[37m\u001B[0m \u001B[1m1s\u001B[0m 56ms/step - accuracy: 0.8839 - loss: 0.3321 - val_accuracy: 0.8673 - val_loss: 0.3853\n",
      "Epoch 12/100\n",
      "\u001B[1m21/21\u001B[0m \u001B[32m━━━━━━━━━━━━━━━━━━━━\u001B[0m\u001B[37m\u001B[0m \u001B[1m1s\u001B[0m 56ms/step - accuracy: 0.8859 - loss: 0.3326 - val_accuracy: 0.8676 - val_loss: 0.3843\n",
      "Epoch 13/100\n",
      "\u001B[1m21/21\u001B[0m \u001B[32m━━━━━━━━━━━━━━━━━━━━\u001B[0m\u001B[37m\u001B[0m \u001B[1m1s\u001B[0m 56ms/step - accuracy: 0.8884 - loss: 0.3209 - val_accuracy: 0.8689 - val_loss: 0.3844\n",
      "Epoch 14/100\n",
      "\u001B[1m21/21\u001B[0m \u001B[32m━━━━━━━━━━━━━━━━━━━━\u001B[0m\u001B[37m\u001B[0m \u001B[1m1s\u001B[0m 56ms/step - accuracy: 0.8836 - loss: 0.3345 - val_accuracy: 0.8673 - val_loss: 0.3854\n",
      "Epoch 15/100\n",
      "\u001B[1m21/21\u001B[0m \u001B[32m━━━━━━━━━━━━━━━━━━━━\u001B[0m\u001B[37m\u001B[0m \u001B[1m1s\u001B[0m 56ms/step - accuracy: 0.8847 - loss: 0.3388 - val_accuracy: 0.8699 - val_loss: 0.3844\n",
      "Epoch 16/100\n",
      "\u001B[1m21/21\u001B[0m \u001B[32m━━━━━━━━━━━━━━━━━━━━\u001B[0m\u001B[37m\u001B[0m \u001B[1m1s\u001B[0m 56ms/step - accuracy: 0.8850 - loss: 0.3288 - val_accuracy: 0.8683 - val_loss: 0.3842\n",
      "Epoch 17/100\n",
      "\u001B[1m21/21\u001B[0m \u001B[32m━━━━━━━━━━━━━━━━━━━━\u001B[0m\u001B[37m\u001B[0m \u001B[1m1s\u001B[0m 57ms/step - accuracy: 0.8857 - loss: 0.3287 - val_accuracy: 0.8706 - val_loss: 0.3839\n",
      "Epoch 18/100\n",
      "\u001B[1m21/21\u001B[0m \u001B[32m━━━━━━━━━━━━━━━━━━━━\u001B[0m\u001B[37m\u001B[0m \u001B[1m1s\u001B[0m 56ms/step - accuracy: 0.8843 - loss: 0.3273 - val_accuracy: 0.8696 - val_loss: 0.3837\n",
      "Epoch 19/100\n",
      "\u001B[1m21/21\u001B[0m \u001B[32m━━━━━━━━━━━━━━━━━━━━\u001B[0m\u001B[37m\u001B[0m \u001B[1m7s\u001B[0m 336ms/step - accuracy: 0.8871 - loss: 0.3305 - val_accuracy: 0.8673 - val_loss: 0.3846\n",
      "Epoch 20/100\n",
      "\u001B[1m21/21\u001B[0m \u001B[32m━━━━━━━━━━━━━━━━━━━━\u001B[0m\u001B[37m\u001B[0m \u001B[1m1s\u001B[0m 55ms/step - accuracy: 0.8885 - loss: 0.3260 - val_accuracy: 0.8673 - val_loss: 0.3838\n",
      "Epoch 21/100\n",
      "\u001B[1m21/21\u001B[0m \u001B[32m━━━━━━━━━━━━━━━━━━━━\u001B[0m\u001B[37m\u001B[0m \u001B[1m1s\u001B[0m 58ms/step - accuracy: 0.8883 - loss: 0.3285 - val_accuracy: 0.8689 - val_loss: 0.3838\n",
      "Epoch 22/100\n",
      "\u001B[1m21/21\u001B[0m \u001B[32m━━━━━━━━━━━━━━━━━━━━\u001B[0m\u001B[37m\u001B[0m \u001B[1m1s\u001B[0m 61ms/step - accuracy: 0.8856 - loss: 0.3236 - val_accuracy: 0.8683 - val_loss: 0.3840\n",
      "Epoch 23/100\n",
      "\u001B[1m21/21\u001B[0m \u001B[32m━━━━━━━━━━━━━━━━━━━━\u001B[0m\u001B[37m\u001B[0m \u001B[1m1s\u001B[0m 62ms/step - accuracy: 0.8889 - loss: 0.3196 - val_accuracy: 0.8683 - val_loss: 0.3830\n",
      "Epoch 24/100\n",
      "\u001B[1m21/21\u001B[0m \u001B[32m━━━━━━━━━━━━━━━━━━━━\u001B[0m\u001B[37m\u001B[0m \u001B[1m7s\u001B[0m 337ms/step - accuracy: 0.8866 - loss: 0.3279 - val_accuracy: 0.8699 - val_loss: 0.3834\n",
      "Epoch 25/100\n",
      "\u001B[1m21/21\u001B[0m \u001B[32m━━━━━━━━━━━━━━━━━━━━\u001B[0m\u001B[37m\u001B[0m \u001B[1m1s\u001B[0m 55ms/step - accuracy: 0.8889 - loss: 0.3198 - val_accuracy: 0.8679 - val_loss: 0.3828\n",
      "Epoch 26/100\n",
      "\u001B[1m21/21\u001B[0m \u001B[32m━━━━━━━━━━━━━━━━━━━━\u001B[0m\u001B[37m\u001B[0m \u001B[1m1s\u001B[0m 58ms/step - accuracy: 0.8864 - loss: 0.3345 - val_accuracy: 0.8669 - val_loss: 0.3831\n",
      "Epoch 27/100\n",
      "\u001B[1m21/21\u001B[0m \u001B[32m━━━━━━━━━━━━━━━━━━━━\u001B[0m\u001B[37m\u001B[0m \u001B[1m1s\u001B[0m 58ms/step - accuracy: 0.8901 - loss: 0.3212 - val_accuracy: 0.8696 - val_loss: 0.3820\n",
      "Epoch 28/100\n",
      "\u001B[1m21/21\u001B[0m \u001B[32m━━━━━━━━━━━━━━━━━━━━\u001B[0m\u001B[37m\u001B[0m \u001B[1m1s\u001B[0m 56ms/step - accuracy: 0.8868 - loss: 0.3251 - val_accuracy: 0.8699 - val_loss: 0.3830\n",
      "Epoch 29/100\n",
      "\u001B[1m21/21\u001B[0m \u001B[32m━━━━━━━━━━━━━━━━━━━━\u001B[0m\u001B[37m\u001B[0m \u001B[1m5s\u001B[0m 228ms/step - accuracy: 0.8897 - loss: 0.3210 - val_accuracy: 0.8703 - val_loss: 0.3827\n",
      "Epoch 30/100\n",
      "\u001B[1m21/21\u001B[0m \u001B[32m━━━━━━━━━━━━━━━━━━━━\u001B[0m\u001B[37m\u001B[0m \u001B[1m3s\u001B[0m 134ms/step - accuracy: 0.8853 - loss: 0.3318 - val_accuracy: 0.8683 - val_loss: 0.3821\n",
      "Epoch 31/100\n",
      "\u001B[1m21/21\u001B[0m \u001B[32m━━━━━━━━━━━━━━━━━━━━\u001B[0m\u001B[37m\u001B[0m \u001B[1m1s\u001B[0m 56ms/step - accuracy: 0.8848 - loss: 0.3250 - val_accuracy: 0.8699 - val_loss: 0.3818\n",
      "Epoch 32/100\n",
      "\u001B[1m21/21\u001B[0m \u001B[32m━━━━━━━━━━━━━━━━━━━━\u001B[0m\u001B[37m\u001B[0m \u001B[1m1s\u001B[0m 57ms/step - accuracy: 0.8889 - loss: 0.3240 - val_accuracy: 0.8693 - val_loss: 0.3820\n",
      "Epoch 33/100\n",
      "\u001B[1m21/21\u001B[0m \u001B[32m━━━━━━━━━━━━━━━━━━━━\u001B[0m\u001B[37m\u001B[0m \u001B[1m1s\u001B[0m 57ms/step - accuracy: 0.8905 - loss: 0.3203 - val_accuracy: 0.8706 - val_loss: 0.3826\n",
      "Epoch 34/100\n",
      "\u001B[1m21/21\u001B[0m \u001B[32m━━━━━━━━━━━━━━━━━━━━\u001B[0m\u001B[37m\u001B[0m \u001B[1m1s\u001B[0m 57ms/step - accuracy: 0.8873 - loss: 0.3198 - val_accuracy: 0.8696 - val_loss: 0.3827\n",
      "Epoch 35/100\n",
      "\u001B[1m21/21\u001B[0m \u001B[32m━━━━━━━━━━━━━━━━━━━━\u001B[0m\u001B[37m\u001B[0m \u001B[1m7s\u001B[0m 312ms/step - accuracy: 0.8889 - loss: 0.3192 - val_accuracy: 0.8706 - val_loss: 0.3827\n",
      "Epoch 36/100\n",
      "\u001B[1m21/21\u001B[0m \u001B[32m━━━━━━━━━━━━━━━━━━━━\u001B[0m\u001B[37m\u001B[0m \u001B[1m1s\u001B[0m 58ms/step - accuracy: 0.8889 - loss: 0.3279 - val_accuracy: 0.8693 - val_loss: 0.3822\n",
      "Epoch 37/100\n",
      "\u001B[1m21/21\u001B[0m \u001B[32m━━━━━━━━━━━━━━━━━━━━\u001B[0m\u001B[37m\u001B[0m \u001B[1m1s\u001B[0m 56ms/step - accuracy: 0.8899 - loss: 0.3196 - val_accuracy: 0.8709 - val_loss: 0.3812\n",
      "Epoch 38/100\n",
      "\u001B[1m21/21\u001B[0m \u001B[32m━━━━━━━━━━━━━━━━━━━━\u001B[0m\u001B[37m\u001B[0m \u001B[1m1s\u001B[0m 58ms/step - accuracy: 0.8913 - loss: 0.3185 - val_accuracy: 0.8693 - val_loss: 0.3820\n",
      "Epoch 39/100\n",
      "\u001B[1m21/21\u001B[0m \u001B[32m━━━━━━━━━━━━━━━━━━━━\u001B[0m\u001B[37m\u001B[0m \u001B[1m1s\u001B[0m 57ms/step - accuracy: 0.8890 - loss: 0.3245 - val_accuracy: 0.8709 - val_loss: 0.3813\n",
      "Epoch 40/100\n",
      "\u001B[1m21/21\u001B[0m \u001B[32m━━━━━━━━━━━━━━━━━━━━\u001B[0m\u001B[37m\u001B[0m \u001B[1m7s\u001B[0m 337ms/step - accuracy: 0.8915 - loss: 0.3119 - val_accuracy: 0.8709 - val_loss: 0.3819\n",
      "Epoch 41/100\n",
      "\u001B[1m21/21\u001B[0m \u001B[32m━━━━━━━━━━━━━━━━━━━━\u001B[0m\u001B[37m\u001B[0m \u001B[1m1s\u001B[0m 55ms/step - accuracy: 0.8902 - loss: 0.3160 - val_accuracy: 0.8696 - val_loss: 0.3823\n",
      "Epoch 42/100\n",
      "\u001B[1m21/21\u001B[0m \u001B[32m━━━━━━━━━━━━━━━━━━━━\u001B[0m\u001B[37m\u001B[0m \u001B[1m1s\u001B[0m 56ms/step - accuracy: 0.8853 - loss: 0.3301 - val_accuracy: 0.8709 - val_loss: 0.3809\n",
      "Epoch 43/100\n",
      "\u001B[1m21/21\u001B[0m \u001B[32m━━━━━━━━━━━━━━━━━━━━\u001B[0m\u001B[37m\u001B[0m \u001B[1m1s\u001B[0m 56ms/step - accuracy: 0.8887 - loss: 0.3183 - val_accuracy: 0.8706 - val_loss: 0.3812\n",
      "Epoch 44/100\n",
      "\u001B[1m21/21\u001B[0m \u001B[32m━━━━━━━━━━━━━━━━━━━━\u001B[0m\u001B[37m\u001B[0m \u001B[1m1s\u001B[0m 57ms/step - accuracy: 0.8913 - loss: 0.3116 - val_accuracy: 0.8709 - val_loss: 0.3817\n",
      "Epoch 45/100\n",
      "\u001B[1m21/21\u001B[0m \u001B[32m━━━━━━━━━━━━━━━━━━━━\u001B[0m\u001B[37m\u001B[0m \u001B[1m7s\u001B[0m 333ms/step - accuracy: 0.8883 - loss: 0.3199 - val_accuracy: 0.8713 - val_loss: 0.3813\n",
      "Epoch 46/100\n",
      "\u001B[1m21/21\u001B[0m \u001B[32m━━━━━━━━━━━━━━━━━━━━\u001B[0m\u001B[37m\u001B[0m \u001B[1m1s\u001B[0m 56ms/step - accuracy: 0.8877 - loss: 0.3257 - val_accuracy: 0.8719 - val_loss: 0.3817\n",
      "Epoch 47/100\n",
      "\u001B[1m21/21\u001B[0m \u001B[32m━━━━━━━━━━━━━━━━━━━━\u001B[0m\u001B[37m\u001B[0m \u001B[1m1s\u001B[0m 57ms/step - accuracy: 0.8901 - loss: 0.3195 - val_accuracy: 0.8703 - val_loss: 0.3811\n",
      "Epoch 48/100\n",
      "\u001B[1m21/21\u001B[0m \u001B[32m━━━━━━━━━━━━━━━━━━━━\u001B[0m\u001B[37m\u001B[0m \u001B[1m1s\u001B[0m 57ms/step - accuracy: 0.8879 - loss: 0.3228 - val_accuracy: 0.8699 - val_loss: 0.3805\n",
      "Epoch 49/100\n",
      "\u001B[1m21/21\u001B[0m \u001B[32m━━━━━━━━━━━━━━━━━━━━\u001B[0m\u001B[37m\u001B[0m \u001B[1m1s\u001B[0m 57ms/step - accuracy: 0.8896 - loss: 0.3202 - val_accuracy: 0.8713 - val_loss: 0.3818\n",
      "Epoch 50/100\n",
      "\u001B[1m21/21\u001B[0m \u001B[32m━━━━━━━━━━━━━━━━━━━━\u001B[0m\u001B[37m\u001B[0m \u001B[1m3s\u001B[0m 135ms/step - accuracy: 0.8902 - loss: 0.3181 - val_accuracy: 0.8706 - val_loss: 0.3811\n",
      "Epoch 51/100\n",
      "\u001B[1m21/21\u001B[0m \u001B[32m━━━━━━━━━━━━━━━━━━━━\u001B[0m\u001B[37m\u001B[0m \u001B[1m5s\u001B[0m 223ms/step - accuracy: 0.8904 - loss: 0.3176 - val_accuracy: 0.8719 - val_loss: 0.3807\n",
      "Epoch 52/100\n",
      "\u001B[1m21/21\u001B[0m \u001B[32m━━━━━━━━━━━━━━━━━━━━\u001B[0m\u001B[37m\u001B[0m \u001B[1m1s\u001B[0m 56ms/step - accuracy: 0.8845 - loss: 0.3230 - val_accuracy: 0.8719 - val_loss: 0.3805\n",
      "Epoch 53/100\n",
      "\u001B[1m21/21\u001B[0m \u001B[32m━━━━━━━━━━━━━━━━━━━━\u001B[0m\u001B[37m\u001B[0m \u001B[1m1s\u001B[0m 57ms/step - accuracy: 0.8894 - loss: 0.3259 - val_accuracy: 0.8703 - val_loss: 0.3804\n",
      "Epoch 54/100\n",
      "\u001B[1m21/21\u001B[0m \u001B[32m━━━━━━━━━━━━━━━━━━━━\u001B[0m\u001B[37m\u001B[0m \u001B[1m1s\u001B[0m 57ms/step - accuracy: 0.8915 - loss: 0.3184 - val_accuracy: 0.8716 - val_loss: 0.3806\n",
      "Epoch 55/100\n",
      "\u001B[1m21/21\u001B[0m \u001B[32m━━━━━━━━━━━━━━━━━━━━\u001B[0m\u001B[37m\u001B[0m \u001B[1m1s\u001B[0m 57ms/step - accuracy: 0.8881 - loss: 0.3210 - val_accuracy: 0.8713 - val_loss: 0.3813\n",
      "Epoch 56/100\n",
      "\u001B[1m21/21\u001B[0m \u001B[32m━━━━━━━━━━━━━━━━━━━━\u001B[0m\u001B[37m\u001B[0m \u001B[1m7s\u001B[0m 337ms/step - accuracy: 0.8902 - loss: 0.3168 - val_accuracy: 0.8709 - val_loss: 0.3809\n",
      "Epoch 57/100\n",
      "\u001B[1m21/21\u001B[0m \u001B[32m━━━━━━━━━━━━━━━━━━━━\u001B[0m\u001B[37m\u001B[0m \u001B[1m1s\u001B[0m 57ms/step - accuracy: 0.8887 - loss: 0.3214 - val_accuracy: 0.8713 - val_loss: 0.3813\n",
      "Epoch 58/100\n",
      "\u001B[1m21/21\u001B[0m \u001B[32m━━━━━━━━━━━━━━━━━━━━\u001B[0m\u001B[37m\u001B[0m \u001B[1m1s\u001B[0m 57ms/step - accuracy: 0.8881 - loss: 0.3204 - val_accuracy: 0.8716 - val_loss: 0.3810\n",
      "Epoch 59/100\n",
      "\u001B[1m21/21\u001B[0m \u001B[32m━━━━━━━━━━━━━━━━━━━━\u001B[0m\u001B[37m\u001B[0m \u001B[1m1s\u001B[0m 57ms/step - accuracy: 0.8905 - loss: 0.3130 - val_accuracy: 0.8716 - val_loss: 0.3809\n",
      "Epoch 60/100\n",
      "\u001B[1m21/21\u001B[0m \u001B[32m━━━━━━━━━━━━━━━━━━━━\u001B[0m\u001B[37m\u001B[0m \u001B[1m1s\u001B[0m 58ms/step - accuracy: 0.8908 - loss: 0.3125 - val_accuracy: 0.8716 - val_loss: 0.3808\n",
      "Epoch 61/100\n",
      "\u001B[1m21/21\u001B[0m \u001B[32m━━━━━━━━━━━━━━━━━━━━\u001B[0m\u001B[37m\u001B[0m \u001B[1m7s\u001B[0m 337ms/step - accuracy: 0.8862 - loss: 0.3241 - val_accuracy: 0.8713 - val_loss: 0.3815\n",
      "Epoch 62/100\n",
      "\u001B[1m21/21\u001B[0m \u001B[32m━━━━━━━━━━━━━━━━━━━━\u001B[0m\u001B[37m\u001B[0m \u001B[1m1s\u001B[0m 57ms/step - accuracy: 0.8896 - loss: 0.3232 - val_accuracy: 0.8709 - val_loss: 0.3809\n",
      "Epoch 63/100\n",
      "\u001B[1m21/21\u001B[0m \u001B[32m━━━━━━━━━━━━━━━━━━━━\u001B[0m\u001B[37m\u001B[0m \u001B[1m1s\u001B[0m 56ms/step - accuracy: 0.8936 - loss: 0.3117 - val_accuracy: 0.8719 - val_loss: 0.3801\n",
      "Epoch 64/100\n",
      "\u001B[1m21/21\u001B[0m \u001B[32m━━━━━━━━━━━━━━━━━━━━\u001B[0m\u001B[37m\u001B[0m \u001B[1m1s\u001B[0m 57ms/step - accuracy: 0.8888 - loss: 0.3228 - val_accuracy: 0.8729 - val_loss: 0.3795\n",
      "Epoch 65/100\n",
      "\u001B[1m21/21\u001B[0m \u001B[32m━━━━━━━━━━━━━━━━━━━━\u001B[0m\u001B[37m\u001B[0m \u001B[1m1s\u001B[0m 57ms/step - accuracy: 0.8905 - loss: 0.3153 - val_accuracy: 0.8733 - val_loss: 0.3807\n",
      "Epoch 66/100\n",
      "\u001B[1m21/21\u001B[0m \u001B[32m━━━━━━━━━━━━━━━━━━━━\u001B[0m\u001B[37m\u001B[0m \u001B[1m5s\u001B[0m 268ms/step - accuracy: 0.8921 - loss: 0.3137 - val_accuracy: 0.8723 - val_loss: 0.3805\n",
      "Epoch 67/100\n",
      "\u001B[1m21/21\u001B[0m \u001B[32m━━━━━━━━━━━━━━━━━━━━\u001B[0m\u001B[37m\u001B[0m \u001B[1m3s\u001B[0m 93ms/step - accuracy: 0.8956 - loss: 0.3085 - val_accuracy: 0.8713 - val_loss: 0.3812\n",
      "Epoch 68/100\n",
      "\u001B[1m21/21\u001B[0m \u001B[32m━━━━━━━━━━━━━━━━━━━━\u001B[0m\u001B[37m\u001B[0m \u001B[1m1s\u001B[0m 56ms/step - accuracy: 0.8852 - loss: 0.3231 - val_accuracy: 0.8713 - val_loss: 0.3798\n",
      "Epoch 69/100\n",
      "\u001B[1m21/21\u001B[0m \u001B[32m━━━━━━━━━━━━━━━━━━━━\u001B[0m\u001B[37m\u001B[0m \u001B[1m1s\u001B[0m 56ms/step - accuracy: 0.8910 - loss: 0.3164 - val_accuracy: 0.8716 - val_loss: 0.3801\n",
      "Epoch 70/100\n",
      "\u001B[1m21/21\u001B[0m \u001B[32m━━━━━━━━━━━━━━━━━━━━\u001B[0m\u001B[37m\u001B[0m \u001B[1m1s\u001B[0m 57ms/step - accuracy: 0.8923 - loss: 0.3088 - val_accuracy: 0.8726 - val_loss: 0.3794\n",
      "Epoch 71/100\n",
      "\u001B[1m21/21\u001B[0m \u001B[32m━━━━━━━━━━━━━━━━━━━━\u001B[0m\u001B[37m\u001B[0m \u001B[1m1s\u001B[0m 62ms/step - accuracy: 0.8909 - loss: 0.3134 - val_accuracy: 0.8713 - val_loss: 0.3805\n",
      "Epoch 72/100\n",
      "\u001B[1m21/21\u001B[0m \u001B[32m━━━━━━━━━━━━━━━━━━━━\u001B[0m\u001B[37m\u001B[0m \u001B[1m7s\u001B[0m 308ms/step - accuracy: 0.8956 - loss: 0.3090 - val_accuracy: 0.8723 - val_loss: 0.3802\n",
      "Epoch 73/100\n",
      "\u001B[1m21/21\u001B[0m \u001B[32m━━━━━━━━━━━━━━━━━━━━\u001B[0m\u001B[37m\u001B[0m \u001B[1m1s\u001B[0m 56ms/step - accuracy: 0.8928 - loss: 0.3119 - val_accuracy: 0.8719 - val_loss: 0.3799\n",
      "Epoch 74/100\n",
      "\u001B[1m21/21\u001B[0m \u001B[32m━━━━━━━━━━━━━━━━━━━━\u001B[0m\u001B[37m\u001B[0m \u001B[1m1s\u001B[0m 57ms/step - accuracy: 0.8903 - loss: 0.3217 - val_accuracy: 0.8719 - val_loss: 0.3795\n",
      "Epoch 75/100\n",
      "\u001B[1m21/21\u001B[0m \u001B[32m━━━━━━━━━━━━━━━━━━━━\u001B[0m\u001B[37m\u001B[0m \u001B[1m1s\u001B[0m 57ms/step - accuracy: 0.8922 - loss: 0.3165 - val_accuracy: 0.8723 - val_loss: 0.3802\n",
      "Epoch 76/100\n",
      "\u001B[1m21/21\u001B[0m \u001B[32m━━━━━━━━━━━━━━━━━━━━\u001B[0m\u001B[37m\u001B[0m \u001B[1m1s\u001B[0m 57ms/step - accuracy: 0.8909 - loss: 0.3134 - val_accuracy: 0.8719 - val_loss: 0.3788\n",
      "Epoch 77/100\n",
      "\u001B[1m21/21\u001B[0m \u001B[32m━━━━━━━━━━━━━━━━━━━━\u001B[0m\u001B[37m\u001B[0m \u001B[1m7s\u001B[0m 342ms/step - accuracy: 0.8914 - loss: 0.3143 - val_accuracy: 0.8716 - val_loss: 0.3798\n",
      "Epoch 78/100\n",
      "\u001B[1m21/21\u001B[0m \u001B[32m━━━━━━━━━━━━━━━━━━━━\u001B[0m\u001B[37m\u001B[0m \u001B[1m1s\u001B[0m 58ms/step - accuracy: 0.8912 - loss: 0.3193 - val_accuracy: 0.8716 - val_loss: 0.3800\n",
      "Epoch 79/100\n",
      "\u001B[1m21/21\u001B[0m \u001B[32m━━━━━━━━━━━━━━━━━━━━\u001B[0m\u001B[37m\u001B[0m \u001B[1m1s\u001B[0m 57ms/step - accuracy: 0.8877 - loss: 0.3199 - val_accuracy: 0.8723 - val_loss: 0.3800\n",
      "Epoch 80/100\n",
      "\u001B[1m21/21\u001B[0m \u001B[32m━━━━━━━━━━━━━━━━━━━━\u001B[0m\u001B[37m\u001B[0m \u001B[1m1s\u001B[0m 55ms/step - accuracy: 0.8929 - loss: 0.3134 - val_accuracy: 0.8729 - val_loss: 0.3788\n",
      "Epoch 81/100\n",
      "\u001B[1m21/21\u001B[0m \u001B[32m━━━━━━━━━━━━━━━━━━━━\u001B[0m\u001B[37m\u001B[0m \u001B[1m1s\u001B[0m 54ms/step - accuracy: 0.8891 - loss: 0.3209 - val_accuracy: 0.8726 - val_loss: 0.3804\n",
      "Epoch 82/100\n",
      "\u001B[1m21/21\u001B[0m \u001B[32m━━━━━━━━━━━━━━━━━━━━\u001B[0m\u001B[37m\u001B[0m \u001B[1m7s\u001B[0m 335ms/step - accuracy: 0.8905 - loss: 0.3132 - val_accuracy: 0.8723 - val_loss: 0.3791\n",
      "Epoch 83/100\n",
      "\u001B[1m21/21\u001B[0m \u001B[32m━━━━━━━━━━━━━━━━━━━━\u001B[0m\u001B[37m\u001B[0m \u001B[1m1s\u001B[0m 53ms/step - accuracy: 0.8875 - loss: 0.3183 - val_accuracy: 0.8719 - val_loss: 0.3794\n",
      "Epoch 84/100\n",
      "\u001B[1m21/21\u001B[0m \u001B[32m━━━━━━━━━━━━━━━━━━━━\u001B[0m\u001B[37m\u001B[0m \u001B[1m1s\u001B[0m 57ms/step - accuracy: 0.8929 - loss: 0.3040 - val_accuracy: 0.8726 - val_loss: 0.3796\n",
      "Epoch 85/100\n",
      "\u001B[1m21/21\u001B[0m \u001B[32m━━━━━━━━━━━━━━━━━━━━\u001B[0m\u001B[37m\u001B[0m \u001B[1m1s\u001B[0m 57ms/step - accuracy: 0.8924 - loss: 0.3074 - val_accuracy: 0.8723 - val_loss: 0.3790\n",
      "Epoch 86/100\n",
      "\u001B[1m21/21\u001B[0m \u001B[32m━━━━━━━━━━━━━━━━━━━━\u001B[0m\u001B[37m\u001B[0m \u001B[1m1s\u001B[0m 57ms/step - accuracy: 0.8911 - loss: 0.3109 - val_accuracy: 0.8716 - val_loss: 0.3799\n",
      "Epoch 86: early stopping\n"
     ]
    }
   ],
   "source": [
    "EPOCHS = 100\n",
    "history = model.fit(train_data, train_labels,\n",
    "    validation_data=(valid_data, valid_labels),\n",
    "    epochs=EPOCHS,\n",
    "    callbacks=tf.keras.callbacks.EarlyStopping(verbose=1, patience=5),\n",
    "    batch_size=1024\n",
    ")"
   ],
   "metadata": {
    "collapsed": false,
    "ExecuteTime": {
     "end_time": "2025-01-16T18:53:25.525346484Z",
     "start_time": "2025-01-16T18:50:23.116273430Z"
    }
   },
   "id": "17b67e1f1a2b9577",
   "execution_count": 30
  },
  {
   "cell_type": "code",
   "outputs": [],
   "source": [],
   "metadata": {
    "collapsed": false
   },
   "id": "86438af7fce56450"
  }
 ],
 "metadata": {
  "kernelspec": {
   "display_name": "Python 3",
   "language": "python",
   "name": "python3"
  },
  "language_info": {
   "codemirror_mode": {
    "name": "ipython",
    "version": 2
   },
   "file_extension": ".py",
   "mimetype": "text/x-python",
   "name": "python",
   "nbconvert_exporter": "python",
   "pygments_lexer": "ipython2",
   "version": "2.7.6"
  }
 },
 "nbformat": 4,
 "nbformat_minor": 5
}
