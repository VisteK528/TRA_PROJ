{
 "cells": [
  {
   "cell_type": "code",
   "execution_count": 1,
   "id": "initial_id",
   "metadata": {
    "collapsed": true,
    "ExecuteTime": {
     "end_time": "2025-01-17T22:42:17.110871367Z",
     "start_time": "2025-01-17T22:42:15.104261130Z"
    }
   },
   "outputs": [
    {
     "name": "stderr",
     "output_type": "stream",
     "text": [
      "2025-01-17 23:42:15.728010: E external/local_xla/xla/stream_executor/cuda/cuda_fft.cc:477] Unable to register cuFFT factory: Attempting to register factory for plugin cuFFT when one has already been registered\n",
      "WARNING: All log messages before absl::InitializeLog() is called are written to STDERR\n",
      "E0000 00:00:1737153735.743143   58901 cuda_dnn.cc:8310] Unable to register cuDNN factory: Attempting to register factory for plugin cuDNN when one has already been registered\n",
      "E0000 00:00:1737153735.747823   58901 cuda_blas.cc:1418] Unable to register cuBLAS factory: Attempting to register factory for plugin cuBLAS when one has already been registered\n",
      "2025-01-17 23:42:15.762900: I tensorflow/core/platform/cpu_feature_guard.cc:210] This TensorFlow binary is optimized to use available CPU instructions in performance-critical operations.\n",
      "To enable the following instructions: AVX2 FMA, in other operations, rebuild TensorFlow with the appropriate compiler flags.\n"
     ]
    }
   ],
   "source": [
    "import tensorflow_datasets as tfds\n",
    "import matplotlib.pyplot as plt\n",
    "import numpy as np\n",
    "import librosa\n",
    "from IPython import display\n",
    "import sys\n",
    "sys.path.append(\"../\")\n",
    "from DSP_prototype.DSP_algorithms import stft\n",
    "import tensorflow as tf\n",
    "from tensorflow import keras\n",
    "import tensorflow_model_optimization as tfmot\n",
    "import os\n",
    "import csv\n",
    "import tempfile"
   ]
  },
  {
   "cell_type": "code",
   "outputs": [],
   "source": [
    "gpus = tf.config.experimental.list_physical_devices('GPU')\n",
    "if gpus:\n",
    "    try:\n",
    "        for gpu in gpus:\n",
    "            tf.config.experimental.set_memory_growth(gpu, True)\n",
    "    except RuntimeError as e:\n",
    "        print(e)\n"
   ],
   "metadata": {
    "collapsed": false,
    "ExecuteTime": {
     "end_time": "2025-01-17T22:42:36.806029168Z",
     "start_time": "2025-01-17T22:42:36.792900212Z"
    }
   },
   "id": "28b4755bbba9935f",
   "execution_count": 2
  },
  {
   "cell_type": "code",
   "outputs": [],
   "source": [
    "sample_rate = 16000\n",
    "label_strings = [\"down\", \"go\", \"left\", \"no\", \"off\", \"on\", \"right\", \"stop\", \"up\", \"yes\", \"silence\", \"unknown\"]\n",
    "selected_labels = [1, 2, 3, 6, 7, 9, 10, 11]\n",
    "selected_labels_dict = {x:i for i, x in enumerate(selected_labels)}\n",
    "NUM_CLASSES = len(selected_labels)\n",
    "commands = [label_strings[x] for x in selected_labels]\n",
    "selected_labels_str = [label_strings[x] for x in selected_labels]\n",
    "prediction_dict = {i: label for i, label in enumerate(selected_labels_str)}\n",
    "prediction_dict_reversed = {label: i for i, label in enumerate(selected_labels_str)}"
   ],
   "metadata": {
    "collapsed": false,
    "ExecuteTime": {
     "end_time": "2025-01-17T22:42:37.878276586Z",
     "start_time": "2025-01-17T22:42:37.874617681Z"
    }
   },
   "id": "7bbcd9615d068646",
   "execution_count": 3
  },
  {
   "cell_type": "code",
   "outputs": [
    {
     "name": "stdout",
     "output_type": "stream",
     "text": [
      "Full dataset length: 100503\n"
     ]
    }
   ],
   "source": [
    "dataset, info = tfds.load('speech_commands', with_info=True, as_supervised=True, split=\"test+validation+train\")\n",
    "print(f\"Full dataset length: {len(dataset)}\")\n",
    "\n",
    "exclude_classes = [x for x in range(12) if x not in selected_labels]\n",
    "dataset = dataset.shuffle(10000, seed=2137)"
   ],
   "metadata": {
    "collapsed": false,
    "ExecuteTime": {
     "end_time": "2025-01-17T23:23:20.557417947Z",
     "start_time": "2025-01-17T23:23:20.483575Z"
    }
   },
   "id": "abce29cf4caadc02",
   "execution_count": 49
  },
  {
   "cell_type": "code",
   "outputs": [],
   "source": [
    "def split_data_and_labels(dataset, length):\n",
    "    data = []\n",
    "    labels = []\n",
    "    i = 0\n",
    "    unknown_counter = 0\n",
    "    for feature, label in dataset:\n",
    "        if i == length:\n",
    "            break\n",
    "            \n",
    "        pcm = feature.numpy()\n",
    "        pcm_padded = np.pad(pcm, (0, sample_rate - len(pcm)), 'constant', constant_values=0)\n",
    "        pcm_padded = pcm_padded.astype(np.float32)\n",
    "        pcm_padded = librosa.resample(pcm_padded, orig_sr=16e3, target_sr=8e3)\n",
    "        # pcm_padded += np.random.uniform(0, 200, size=(pcm_padded.size))\n",
    "        \n",
    "        label = int(label.numpy())\n",
    "        if label in selected_labels:\n",
    "            if label == 11 and unknown_counter < 5:\n",
    "                unknown_counter += 1\n",
    "                \n",
    "            if (label == 11 and unknown_counter == 5) or label != 11:\n",
    "                data.append(pcm_padded)\n",
    "                labels.append(selected_labels_dict.get(label))\n",
    "                i += 1\n",
    "                unknown_counter = 0\n",
    "    return np.vstack(data), np.vstack(labels)\n"
   ],
   "metadata": {
    "collapsed": false,
    "ExecuteTime": {
     "end_time": "2025-01-17T22:46:30.598662267Z",
     "start_time": "2025-01-17T22:46:30.594431561Z"
    }
   },
   "id": "163bb5375e96c2fe",
   "execution_count": 6
  },
  {
   "cell_type": "code",
   "outputs": [
    {
     "name": "stderr",
     "output_type": "stream",
     "text": [
      "2025-01-18 00:24:21.857748: I tensorflow/core/framework/local_rendezvous.cc:405] Local rendezvous is aborting with status: OUT_OF_RANGE: End of sequence\n"
     ]
    },
    {
     "name": "stdout",
     "output_type": "stream",
     "text": [
      "Filtered length: 30069\n"
     ]
    }
   ],
   "source": [
    "data, labels = split_data_and_labels(dataset, len(dataset))\n",
    "NEW_DATASET_LENGTH = len(data)\n",
    "print(f\"Filtered length: {NEW_DATASET_LENGTH}\")"
   ],
   "metadata": {
    "collapsed": false,
    "ExecuteTime": {
     "end_time": "2025-01-17T23:24:22.545944127Z",
     "start_time": "2025-01-17T23:23:22.516820537Z"
    }
   },
   "id": "817b90b2ae5dbba4",
   "execution_count": 50
  },
  {
   "cell_type": "code",
   "outputs": [
    {
     "name": "stdout",
     "output_type": "stream",
     "text": [
      "Train data length: 21048\n",
      "Validation data length: 3006\n",
      "Test data length: 6015\n",
      "Full dataset length: 30069\n"
     ]
    }
   ],
   "source": [
    "TRAIN_PART = 0.7\n",
    "VAL_PART = 0.1\n",
    "TEST_PART = 0.2\n",
    "\n",
    "train_data = data[:int(NEW_DATASET_LENGTH*TRAIN_PART)]\n",
    "train_labels = labels[:int(NEW_DATASET_LENGTH*TRAIN_PART)]\n",
    "TRAIN_LEN = len(train_data)\n",
    "\n",
    "val_data = data[TRAIN_LEN:TRAIN_LEN+int(NEW_DATASET_LENGTH*VAL_PART)]\n",
    "val_labels = labels[TRAIN_LEN:TRAIN_LEN+int(NEW_DATASET_LENGTH*VAL_PART)]\n",
    "VAL_LEN = len(val_data)\n",
    "\n",
    "test_data = data[TRAIN_LEN+VAL_LEN:]\n",
    "test_labels = labels[TRAIN_LEN+VAL_LEN:]\n",
    "TEST_LEN = len(test_data)\n",
    "\n",
    "print(f\"Train data length: {TRAIN_LEN}\")\n",
    "print(f\"Validation data length: {VAL_LEN}\")\n",
    "print(f\"Test data length: {TEST_LEN}\")\n",
    "print(f\"Full dataset length: {NEW_DATASET_LENGTH}\")"
   ],
   "metadata": {
    "collapsed": false,
    "ExecuteTime": {
     "end_time": "2025-01-17T23:24:22.613061175Z",
     "start_time": "2025-01-17T23:24:22.569133975Z"
    }
   },
   "id": "57963cc6ebe60a76",
   "execution_count": 51
  },
  {
   "cell_type": "code",
   "outputs": [],
   "source": [
    "train_data = np.array([np.abs(stft(x, fs=8e3, N=256, hop_size=128)[0]) for x in train_data])\n",
    "valid_data = np.array([np.abs(stft(x, fs=8e3, N=256, hop_size=128)[0]) for x in val_data])\n",
    "test_data = np.array([np.abs(stft(x, fs=8e3, N=256, hop_size=128)[0]) for x in test_data])"
   ],
   "metadata": {
    "collapsed": false,
    "ExecuteTime": {
     "end_time": "2025-01-17T23:24:35.612787826Z",
     "start_time": "2025-01-17T23:24:22.610120194Z"
    }
   },
   "id": "33ed13a3a25fe863",
   "execution_count": 52
  },
  {
   "cell_type": "markdown",
   "source": [
    "# Convert to melscale"
   ],
   "metadata": {
    "collapsed": false
   },
   "id": "b44aab7f854b7466"
  },
  {
   "cell_type": "code",
   "outputs": [],
   "source": [
    "# mel_filter = librosa.filters.mel(sr=8e3, n_fft=256, n_mels=40)\n",
    "# train_data = np.array([np.dot(mel_filter, x) for x in train_data])\n",
    "# valid_data = np.array([np.dot(mel_filter, x) for x in valid_data])\n",
    "# test_data = np.array([np.dot(mel_filter, x) for x in test_data])\n"
   ],
   "metadata": {
    "collapsed": false,
    "ExecuteTime": {
     "end_time": "2025-01-17T23:12:45.322108175Z",
     "start_time": "2025-01-17T23:12:44.775587952Z"
    }
   },
   "id": "69c0a797958ca6a1",
   "execution_count": 31
  },
  {
   "cell_type": "code",
   "outputs": [],
   "source": [
    "train_data = train_data.reshape(len(train_data), train_data[0].shape[0], train_data[0].shape[1], 1)\n",
    "valid_data = valid_data.reshape(len(valid_data), valid_data[0].shape[0], valid_data[0].shape[1], 1)\n",
    "test_data = test_data.reshape(len(test_data), test_data[0].shape[0], test_data[0].shape[1], 1)"
   ],
   "metadata": {
    "collapsed": false,
    "ExecuteTime": {
     "end_time": "2025-01-17T23:24:35.619230698Z",
     "start_time": "2025-01-17T23:24:35.615815946Z"
    }
   },
   "id": "f844811db5340534",
   "execution_count": 53
  },
  {
   "cell_type": "code",
   "outputs": [
    {
     "name": "stderr",
     "output_type": "stream",
     "text": [
      "2025-01-18 00:24:36.437929: W external/local_xla/xla/tsl/framework/cpu_allocator_impl.cc:83] Allocation of 1325013696 exceeds 10% of free system memory.\n"
     ]
    }
   ],
   "source": [
    "train_data = tf.image.resize(train_data, [32, 32])\n",
    "valid_data = tf.image.resize(valid_data, [32, 32])\n",
    "test_data = tf.image.resize(test_data, [32, 32])"
   ],
   "metadata": {
    "collapsed": false,
    "ExecuteTime": {
     "end_time": "2025-01-17T23:24:37.801867873Z",
     "start_time": "2025-01-17T23:24:35.619552965Z"
    }
   },
   "id": "aafc5ff48acfa3d7",
   "execution_count": 54
  },
  {
   "cell_type": "code",
   "outputs": [],
   "source": [
    "np.max(train_data)"
   ],
   "metadata": {
    "collapsed": false
   },
   "id": "d17594541e610d50",
   "execution_count": null
  },
  {
   "cell_type": "markdown",
   "source": [
    "# Load model for prune-tuning"
   ],
   "metadata": {
    "collapsed": false
   },
   "id": "f7b0b694204b0f40"
  },
  {
   "cell_type": "code",
   "outputs": [
    {
     "name": "stdout",
     "output_type": "stream",
     "text": [
      "Input shape: (32, 32, 1)\n",
      "Model: \"sequential_17\"\n",
      "_________________________________________________________________\n",
      " Layer (type)                Output Shape              Param #   \n",
      "=================================================================\n",
      " batch_normalization_77 (Ba  (None, 32, 32, 1)         4         \n",
      " tchNormalization)                                               \n",
      "                                                                 \n",
      " prune_low_magnitude_conv2d  (None, 30, 30, 16)        306       \n",
      " _87 (PruneLowMagnitude)                                         \n",
      "                                                                 \n",
      " batch_normalization_78 (Ba  (None, 30, 30, 16)        64        \n",
      " tchNormalization)                                               \n",
      "                                                                 \n",
      " activation_59 (Activation)  (None, 30, 30, 16)        0         \n",
      "                                                                 \n",
      " prune_low_magnitude_conv2d  (None, 28, 28, 32)        9250      \n",
      " _88 (PruneLowMagnitude)                                         \n",
      "                                                                 \n",
      " batch_normalization_79 (Ba  (None, 28, 28, 32)        128       \n",
      " tchNormalization)                                               \n",
      "                                                                 \n",
      " activation_60 (Activation)  (None, 28, 28, 32)        0         \n",
      "                                                                 \n",
      " max_pooling2d_22 (MaxPooli  (None, 14, 14, 32)        0         \n",
      " ng2D)                                                           \n",
      "                                                                 \n",
      " dropout_35 (Dropout)        (None, 14, 14, 32)        0         \n",
      "                                                                 \n",
      " prune_low_magnitude_conv2d  (None, 12, 12, 32)        18466     \n",
      " _89 (PruneLowMagnitude)                                         \n",
      "                                                                 \n",
      " batch_normalization_80 (Ba  (None, 12, 12, 32)        128       \n",
      " tchNormalization)                                               \n",
      "                                                                 \n",
      " activation_61 (Activation)  (None, 12, 12, 32)        0         \n",
      "                                                                 \n",
      " prune_low_magnitude_conv2d  (None, 10, 10, 64)        36930     \n",
      " _90 (PruneLowMagnitude)                                         \n",
      "                                                                 \n",
      " batch_normalization_81 (Ba  (None, 10, 10, 64)        256       \n",
      " tchNormalization)                                               \n",
      "                                                                 \n",
      " activation_62 (Activation)  (None, 10, 10, 64)        0         \n",
      "                                                                 \n",
      " prune_low_magnitude_conv2d  (None, 10, 10, 128)       16514     \n",
      " _91 (PruneLowMagnitude)                                         \n",
      "                                                                 \n",
      " batch_normalization_82 (Ba  (None, 10, 10, 128)       512       \n",
      " tchNormalization)                                               \n",
      "                                                                 \n",
      " activation_63 (Activation)  (None, 10, 10, 128)       0         \n",
      "                                                                 \n",
      " global_max_pooling2d_9 (Gl  (None, 128)               0         \n",
      " obalMaxPooling2D)                                               \n",
      "                                                                 \n",
      " prune_low_magnitude_dense_  (None, 128)               32898     \n",
      " 34 (PruneLowMagnitude)                                          \n",
      "                                                                 \n",
      " dropout_36 (Dropout)        (None, 128)               0         \n",
      "                                                                 \n",
      " dense_35 (Dense)            (None, 8)                 1032      \n",
      "                                                                 \n",
      "=================================================================\n",
      "Total params: 116488 (455.05 KB)\n",
      "Trainable params: 58954 (230.29 KB)\n",
      "Non-trainable params: 57534 (224.77 KB)\n",
      "_________________________________________________________________\n"
     ]
    }
   ],
   "source": [
    "prune_low_magnitude = tfmot.sparsity.keras.prune_low_magnitude\n",
    "pruning_params_sparsity_0_5 = {\n",
    "    'pruning_schedule': tfmot.sparsity.keras.ConstantSparsity(target_sparsity=0.5,\n",
    "                                                              begin_step=0,\n",
    "                                                              frequency=100)\n",
    "}\n",
    "\n",
    "pruning_params_2_by_4 = {\n",
    "    'sparsity_m_by_n': (2, 4),\n",
    "}\n",
    "\n",
    "input_shape = train_data[0].shape  # This will now be (129, 126, 1)\n",
    "print('Input shape:', input_shape)\n",
    "\n",
    "model = keras.models.Sequential([\n",
    "    keras.layers.Input(shape=input_shape),\n",
    "    keras.layers.BatchNormalization(),\n",
    "    prune_low_magnitude(keras.layers.Conv2D(16, 3, activation=None), **pruning_params_sparsity_0_5),\n",
    "    keras.layers.BatchNormalization(),\n",
    "    keras.layers.Activation('relu'),\n",
    "    prune_low_magnitude(keras.layers.Conv2D(32, 3, activation=None), **pruning_params_sparsity_0_5),\n",
    "    keras.layers.BatchNormalization(),\n",
    "    keras.layers.Activation('relu'),\n",
    "    keras.layers.MaxPooling2D((2,2)),\n",
    "    keras.layers.Dropout(0.3),\n",
    "    prune_low_magnitude(keras.layers.Conv2D(32, 3, activation=None), **pruning_params_sparsity_0_5),\n",
    "    keras.layers.BatchNormalization(),\n",
    "    keras.layers.Activation('relu'),\n",
    "    prune_low_magnitude(keras.layers.Conv2D(64, 3, activation=None), **pruning_params_sparsity_0_5),\n",
    "    keras.layers.BatchNormalization(),\n",
    "    keras.layers.Activation('relu'),\n",
    "    prune_low_magnitude(keras.layers.Conv2D(128, 1, activation=None), **pruning_params_sparsity_0_5),\n",
    "    keras.layers.BatchNormalization(),\n",
    "    keras.layers.Activation('relu'),\n",
    "    keras.layers.GlobalMaxPooling2D(),\n",
    "    prune_low_magnitude(keras.layers.Dense(128, activation='relu'), **pruning_params_2_by_4),\n",
    "    keras.layers.Dropout(0.2),\n",
    "    keras.layers.Dense(NUM_CLASSES, activation='softmax'),\n",
    "])\n",
    "\n",
    "model.summary()"
   ],
   "metadata": {
    "collapsed": false,
    "ExecuteTime": {
     "end_time": "2025-01-17T23:40:25.246915717Z",
     "start_time": "2025-01-17T23:40:24.931195375Z"
    }
   },
   "id": "437c7f4fbf6f5e54",
   "execution_count": 79
  },
  {
   "cell_type": "code",
   "outputs": [
    {
     "name": "stdout",
     "output_type": "stream",
     "text": [
      "Epoch 1/100\n"
     ]
    },
    {
     "name": "stderr",
     "output_type": "stream",
     "text": [
      "E0000 00:00:1737157277.930998   58901 meta_optimizer.cc:966] layout failed: INVALID_ARGUMENT: Size of values 0 does not match size of permutation 4 @ fanin shape insequential_17/dropout_35/dropout/SelectV2-2-TransposeNHWCToNCHW-LayoutOptimizer\n"
     ]
    },
    {
     "name": "stdout",
     "output_type": "stream",
     "text": [
      " 6/21 [=======>......................] - ETA: 1s - loss: 6.2530 - accuracy: 0.1361WARNING:tensorflow:Callback method `on_train_batch_end` is slow compared to the batch time (batch time: 0.0296s vs `on_train_batch_end` time: 0.0482s). Check your callbacks.\n"
     ]
    },
    {
     "name": "stderr",
     "output_type": "stream",
     "text": [
      "WARNING:tensorflow:Callback method `on_train_batch_end` is slow compared to the batch time (batch time: 0.0296s vs `on_train_batch_end` time: 0.0482s). Check your callbacks.\n"
     ]
    },
    {
     "name": "stdout",
     "output_type": "stream",
     "text": [
      "21/21 [==============================] - 5s 79ms/step - loss: 4.7938 - accuracy: 0.1703 - val_loss: 2.0035 - val_accuracy: 0.2026\n",
      "Epoch 2/100\n",
      "21/21 [==============================] - 1s 64ms/step - loss: 3.3146 - accuracy: 0.2596 - val_loss: 1.9462 - val_accuracy: 0.2345\n",
      "Epoch 3/100\n",
      "21/21 [==============================] - 1s 65ms/step - loss: 2.8739 - accuracy: 0.3480 - val_loss: 1.8579 - val_accuracy: 0.3300\n",
      "Epoch 4/100\n",
      "21/21 [==============================] - 1s 65ms/step - loss: 2.5177 - accuracy: 0.4268 - val_loss: 1.7538 - val_accuracy: 0.4434\n",
      "Epoch 5/100\n",
      "21/21 [==============================] - 1s 65ms/step - loss: 2.2644 - accuracy: 0.4962 - val_loss: 1.7411 - val_accuracy: 0.4371\n",
      "Epoch 6/100\n",
      "21/21 [==============================] - 1s 65ms/step - loss: 2.1205 - accuracy: 0.5302 - val_loss: 1.6319 - val_accuracy: 0.4987\n",
      "Epoch 7/100\n",
      "21/21 [==============================] - 1s 66ms/step - loss: 1.8964 - accuracy: 0.5771 - val_loss: 1.5089 - val_accuracy: 0.5369\n",
      "Epoch 8/100\n",
      "21/21 [==============================] - 1s 65ms/step - loss: 1.7253 - accuracy: 0.6233 - val_loss: 1.3762 - val_accuracy: 0.5599\n",
      "Epoch 9/100\n",
      "21/21 [==============================] - 1s 66ms/step - loss: 1.5898 - accuracy: 0.6518 - val_loss: 1.2611 - val_accuracy: 0.5935\n",
      "Epoch 10/100\n",
      "21/21 [==============================] - 1s 66ms/step - loss: 1.4741 - accuracy: 0.6829 - val_loss: 1.1402 - val_accuracy: 0.6251\n",
      "Epoch 11/100\n",
      "21/21 [==============================] - 1s 66ms/step - loss: 1.3732 - accuracy: 0.7111 - val_loss: 0.9889 - val_accuracy: 0.6856\n",
      "Epoch 12/100\n",
      "21/21 [==============================] - 1s 66ms/step - loss: 1.2811 - accuracy: 0.7296 - val_loss: 0.9010 - val_accuracy: 0.7079\n",
      "Epoch 13/100\n",
      "21/21 [==============================] - 1s 66ms/step - loss: 1.2299 - accuracy: 0.7463 - val_loss: 0.8608 - val_accuracy: 0.7122\n",
      "Epoch 14/100\n",
      "21/21 [==============================] - 1s 66ms/step - loss: 1.1600 - accuracy: 0.7588 - val_loss: 0.7848 - val_accuracy: 0.7369\n",
      "Epoch 15/100\n",
      "21/21 [==============================] - 1s 66ms/step - loss: 1.1086 - accuracy: 0.7737 - val_loss: 0.7200 - val_accuracy: 0.7558\n",
      "Epoch 16/100\n",
      "21/21 [==============================] - 1s 66ms/step - loss: 1.0584 - accuracy: 0.7808 - val_loss: 0.6693 - val_accuracy: 0.7671\n",
      "Epoch 17/100\n",
      "21/21 [==============================] - 1s 66ms/step - loss: 1.0201 - accuracy: 0.7884 - val_loss: 0.6397 - val_accuracy: 0.7791\n",
      "Epoch 18/100\n",
      "21/21 [==============================] - 1s 66ms/step - loss: 0.9718 - accuracy: 0.8005 - val_loss: 0.6034 - val_accuracy: 0.7914\n",
      "Epoch 19/100\n",
      "21/21 [==============================] - 1s 66ms/step - loss: 0.9319 - accuracy: 0.8096 - val_loss: 0.5640 - val_accuracy: 0.8094\n",
      "Epoch 20/100\n",
      "21/21 [==============================] - 1s 66ms/step - loss: 0.9183 - accuracy: 0.8092 - val_loss: 0.5211 - val_accuracy: 0.8257\n",
      "Epoch 21/100\n",
      "21/21 [==============================] - 1s 66ms/step - loss: 0.8921 - accuracy: 0.8157 - val_loss: 0.5701 - val_accuracy: 0.8031\n",
      "Epoch 22/100\n",
      "21/21 [==============================] - 1s 67ms/step - loss: 0.8578 - accuracy: 0.8230 - val_loss: 0.6099 - val_accuracy: 0.7851\n",
      "Epoch 23/100\n",
      "21/21 [==============================] - 1s 67ms/step - loss: 0.8301 - accuracy: 0.8293 - val_loss: 0.4873 - val_accuracy: 0.8297\n",
      "Epoch 24/100\n",
      "21/21 [==============================] - 1s 66ms/step - loss: 0.8067 - accuracy: 0.8343 - val_loss: 0.4857 - val_accuracy: 0.8280\n",
      "Epoch 25/100\n",
      "21/21 [==============================] - 1s 67ms/step - loss: 0.7852 - accuracy: 0.8380 - val_loss: 0.4382 - val_accuracy: 0.8503\n",
      "Epoch 26/100\n",
      "21/21 [==============================] - 1s 66ms/step - loss: 0.7718 - accuracy: 0.8409 - val_loss: 0.4226 - val_accuracy: 0.8526\n",
      "Epoch 27/100\n",
      "21/21 [==============================] - 1s 67ms/step - loss: 0.7601 - accuracy: 0.8429 - val_loss: 0.4262 - val_accuracy: 0.8510\n",
      "Epoch 28/100\n",
      "21/21 [==============================] - 1s 67ms/step - loss: 0.7292 - accuracy: 0.8537 - val_loss: 0.4526 - val_accuracy: 0.8397\n",
      "Epoch 29/100\n",
      "21/21 [==============================] - 1s 66ms/step - loss: 0.7217 - accuracy: 0.8532 - val_loss: 0.4132 - val_accuracy: 0.8556\n",
      "Epoch 30/100\n",
      "21/21 [==============================] - 1s 67ms/step - loss: 0.7047 - accuracy: 0.8562 - val_loss: 0.4308 - val_accuracy: 0.8500\n",
      "Epoch 31/100\n",
      "21/21 [==============================] - 1s 67ms/step - loss: 0.7007 - accuracy: 0.8566 - val_loss: 0.4401 - val_accuracy: 0.8470\n",
      "Epoch 32/100\n",
      "21/21 [==============================] - 1s 67ms/step - loss: 0.6765 - accuracy: 0.8621 - val_loss: 0.4293 - val_accuracy: 0.8526\n",
      "Epoch 33/100\n",
      "21/21 [==============================] - 1s 67ms/step - loss: 0.6537 - accuracy: 0.8655 - val_loss: 0.3742 - val_accuracy: 0.8723\n",
      "Epoch 34/100\n",
      "21/21 [==============================] - 1s 67ms/step - loss: 0.6462 - accuracy: 0.8672 - val_loss: 0.3691 - val_accuracy: 0.8723\n",
      "Epoch 35/100\n",
      "21/21 [==============================] - 1s 67ms/step - loss: 0.6351 - accuracy: 0.8681 - val_loss: 0.3820 - val_accuracy: 0.8719\n",
      "Epoch 36/100\n",
      "21/21 [==============================] - 1s 67ms/step - loss: 0.6259 - accuracy: 0.8731 - val_loss: 0.3916 - val_accuracy: 0.8636\n",
      "Epoch 37/100\n",
      "21/21 [==============================] - 1s 67ms/step - loss: 0.6050 - accuracy: 0.8750 - val_loss: 0.3991 - val_accuracy: 0.8599\n",
      "Epoch 38/100\n",
      "21/21 [==============================] - 1s 67ms/step - loss: 0.6031 - accuracy: 0.8775 - val_loss: 0.3998 - val_accuracy: 0.8576\n",
      "Epoch 38: early stopping\n"
     ]
    }
   ],
   "source": [
    "logdir = tempfile.mkdtemp()\n",
    "callbacks = [\n",
    "  tfmot.sparsity.keras.UpdatePruningStep(),\n",
    "  tfmot.sparsity.keras.PruningSummaries(log_dir=logdir),\n",
    "    tf.keras.callbacks.EarlyStopping(verbose=1, patience=4)\n",
    "]\n",
    "\n",
    "model.compile(\n",
    "    optimizer=tf.keras.optimizers.Adam(),\n",
    "    loss=tf.keras.losses.SparseCategoricalCrossentropy(from_logits=False),\n",
    "    metrics=['accuracy'],\n",
    ")\n",
    "\n",
    "train_labels = train_labels.astype(np.float32)\n",
    "valid_labels = val_labels.astype(np.float32)\n",
    "\n",
    "class_weights = {\n",
    "    0: 2.0,\n",
    "    1: 2.0,\n",
    "    2: 2.0,\n",
    "    3: 2.0,\n",
    "    4: 1.0,\n",
    "    5: 2.0,\n",
    "    6: 1.0,\n",
    "    7: 1.5\n",
    "}\n",
    "\n",
    "EPOCHS = 100\n",
    "history = model.fit(train_data, train_labels,\n",
    "    validation_data=(valid_data, valid_labels),\n",
    "    epochs=EPOCHS,\n",
    "    callbacks=callbacks,\n",
    "    batch_size=1024,\n",
    "    class_weight=class_weights\n",
    ")"
   ],
   "metadata": {
    "collapsed": false,
    "ExecuteTime": {
     "end_time": "2025-01-17T23:42:12.966669006Z",
     "start_time": "2025-01-17T23:41:15.635222484Z"
    }
   },
   "id": "675cdc83bad9fec3",
   "execution_count": 81
  },
  {
   "cell_type": "code",
   "outputs": [
    {
     "name": "stdout",
     "output_type": "stream",
     "text": [
      "188/188 [==============================] - 1s 2ms/step - loss: 0.3947 - accuracy: 0.8613\n"
     ]
    },
    {
     "data": {
      "text/plain": "[0.3947451114654541, 0.8613466620445251]"
     },
     "execution_count": 82,
     "metadata": {},
     "output_type": "execute_result"
    }
   ],
   "source": [
    "model.evaluate(test_data, test_labels)"
   ],
   "metadata": {
    "collapsed": false,
    "ExecuteTime": {
     "end_time": "2025-01-17T23:42:16.315688173Z",
     "start_time": "2025-01-17T23:42:15.655447580Z"
    }
   },
   "id": "a1dc2ab78570064f",
   "execution_count": 82
  },
  {
   "cell_type": "code",
   "outputs": [],
   "source": [
    "model_for_export = tfmot.sparsity.keras.strip_pruning(model)"
   ],
   "metadata": {
    "collapsed": false,
    "ExecuteTime": {
     "end_time": "2025-01-17T23:42:19.410865376Z",
     "start_time": "2025-01-17T23:42:19.326048488Z"
    }
   },
   "id": "a239565ea51de072",
   "execution_count": 83
  },
  {
   "cell_type": "code",
   "outputs": [
    {
     "name": "stdout",
     "output_type": "stream",
     "text": [
      "Model: \"sequential_17\"\n",
      "_________________________________________________________________\n",
      " Layer (type)                Output Shape              Param #   \n",
      "=================================================================\n",
      " batch_normalization_77 (Ba  (None, 32, 32, 1)         4         \n",
      " tchNormalization)                                               \n",
      "                                                                 \n",
      " conv2d_87 (Conv2D)          (None, 30, 30, 16)        160       \n",
      "                                                                 \n",
      " batch_normalization_78 (Ba  (None, 30, 30, 16)        64        \n",
      " tchNormalization)                                               \n",
      "                                                                 \n",
      " activation_59 (Activation)  (None, 30, 30, 16)        0         \n",
      "                                                                 \n",
      " conv2d_88 (Conv2D)          (None, 28, 28, 32)        4640      \n",
      "                                                                 \n",
      " batch_normalization_79 (Ba  (None, 28, 28, 32)        128       \n",
      " tchNormalization)                                               \n",
      "                                                                 \n",
      " activation_60 (Activation)  (None, 28, 28, 32)        0         \n",
      "                                                                 \n",
      " max_pooling2d_22 (MaxPooli  (None, 14, 14, 32)        0         \n",
      " ng2D)                                                           \n",
      "                                                                 \n",
      " dropout_35 (Dropout)        (None, 14, 14, 32)        0         \n",
      "                                                                 \n",
      " conv2d_89 (Conv2D)          (None, 12, 12, 32)        9248      \n",
      "                                                                 \n",
      " batch_normalization_80 (Ba  (None, 12, 12, 32)        128       \n",
      " tchNormalization)                                               \n",
      "                                                                 \n",
      " activation_61 (Activation)  (None, 12, 12, 32)        0         \n",
      "                                                                 \n",
      " conv2d_90 (Conv2D)          (None, 10, 10, 64)        18496     \n",
      "                                                                 \n",
      " batch_normalization_81 (Ba  (None, 10, 10, 64)        256       \n",
      " tchNormalization)                                               \n",
      "                                                                 \n",
      " activation_62 (Activation)  (None, 10, 10, 64)        0         \n",
      "                                                                 \n",
      " conv2d_91 (Conv2D)          (None, 10, 10, 128)       8320      \n",
      "                                                                 \n",
      " batch_normalization_82 (Ba  (None, 10, 10, 128)       512       \n",
      " tchNormalization)                                               \n",
      "                                                                 \n",
      " activation_63 (Activation)  (None, 10, 10, 128)       0         \n",
      "                                                                 \n",
      " global_max_pooling2d_9 (Gl  (None, 128)               0         \n",
      " obalMaxPooling2D)                                               \n",
      "                                                                 \n",
      " dense_34 (Dense)            (None, 128)               16512     \n",
      "                                                                 \n",
      " dropout_36 (Dropout)        (None, 128)               0         \n",
      "                                                                 \n",
      " dense_35 (Dense)            (None, 8)                 1032      \n",
      "                                                                 \n",
      "=================================================================\n",
      "Total params: 59500 (232.42 KB)\n",
      "Trainable params: 58954 (230.29 KB)\n",
      "Non-trainable params: 546 (2.13 KB)\n",
      "_________________________________________________________________\n"
     ]
    }
   ],
   "source": [
    "model_for_export.summary()"
   ],
   "metadata": {
    "collapsed": false,
    "ExecuteTime": {
     "end_time": "2025-01-17T23:42:20.036803455Z",
     "start_time": "2025-01-17T23:42:19.993036745Z"
    }
   },
   "id": "5a92d33c044ce959",
   "execution_count": 84
  },
  {
   "cell_type": "code",
   "outputs": [
    {
     "name": "stdout",
     "output_type": "stream",
     "text": [
      "WARNING:tensorflow:Compiled the loaded model, but the compiled metrics have yet to be built. `model.compile_metrics` will be empty until you train or evaluate the model.\n"
     ]
    },
    {
     "name": "stderr",
     "output_type": "stream",
     "text": [
      "WARNING:tensorflow:Compiled the loaded model, but the compiled metrics have yet to be built. `model.compile_metrics` will be empty until you train or evaluate the model.\n"
     ]
    }
   ],
   "source": [
    "model_for_export.save(\"tra_model_for_optimization5.h5\")"
   ],
   "metadata": {
    "collapsed": false,
    "ExecuteTime": {
     "end_time": "2025-01-17T23:42:22.323367351Z",
     "start_time": "2025-01-17T23:42:22.280451787Z"
    }
   },
   "id": "a8ce7615c087f740",
   "execution_count": 85
  },
  {
   "cell_type": "code",
   "outputs": [],
   "source": [],
   "metadata": {
    "collapsed": false
   },
   "id": "aec7919dc0c31601",
   "execution_count": null
  }
 ],
 "metadata": {
  "kernelspec": {
   "display_name": "Python 3",
   "language": "python",
   "name": "python3"
  },
  "language_info": {
   "codemirror_mode": {
    "name": "ipython",
    "version": 2
   },
   "file_extension": ".py",
   "mimetype": "text/x-python",
   "name": "python",
   "nbconvert_exporter": "python",
   "pygments_lexer": "ipython2",
   "version": "2.7.6"
  }
 },
 "nbformat": 4,
 "nbformat_minor": 5
}
